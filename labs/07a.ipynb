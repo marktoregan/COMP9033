{
 "cells": [
  {
   "cell_type": "markdown",
   "metadata": {},
   "source": [
    "# COMP9033 - Data Analytics Lab 07a: $k$ nearest neighbours classification\n",
    "## Introduction\n",
    "\n",
    "This lab focuses on SMS message spam detection using $k$ nearest neighbours classification. It's a direct counterpart to the rule-based spam detection from Lab 05. At the end of the lab, you should be able to use `scikit-learn` to:\n",
    "\n",
    "- Create a $k$ nearest neighbours classification model.\n",
    "- Use the model to predict new values.\n",
    "- Measure the accuracy of the model.\n",
    "\n",
    "### Getting started\n",
    "\n",
    "Let's start by importing the packages we'll need. This week, we're going to use the `neighbors` subpackage from `scikit-learn` to build k nearest neighbours models. We'll also use the `dummy` package to build a baseline model from we which can gauge how good our final model is."
   ]
  },
  {
   "cell_type": "code",
   "execution_count": null,
   "metadata": {
    "collapsed": false
   },
   "outputs": [],
   "source": [
    "import pandas as pd\n",
    "\n",
    "from sklearn.cross_validation import train_test_split\n",
    "from sklearn.dummy import DummyClassifier\n",
    "from sklearn.feature_extraction import stop_words\n",
    "from sklearn.feature_extraction.text import TfidfVectorizer\n",
    "from sklearn.grid_search import GridSearchCV\n",
    "from sklearn.metrics import classification_report\n",
    "from sklearn.neighbors import KNeighborsClassifier\n",
    "from sklearn.pipeline import make_pipeline\n",
    "from sklearn.preprocessing import StandardScaler"
   ]
  },
  {
   "cell_type": "markdown",
   "metadata": {},
   "source": [
    "Next, let's load the data. Write the path to your `sms.csv` file in the cell below:"
   ]
  },
  {
   "cell_type": "code",
   "execution_count": null,
   "metadata": {
    "collapsed": true
   },
   "outputs": [],
   "source": [
    "data_file = 'data/sms.csv'"
   ]
  },
  {
   "cell_type": "markdown",
   "metadata": {},
   "source": [
    "Execute the cell below to load the CSV data into a pandas data frame with the columns `label` and `message`.\n",
    "\n",
    "> **Note:** This week, the CSV file is not comma separated, but instead tab separated. We can tell `pandas` about the different format using the `sep` argument, as shown in the cell below. For more information, see the `read_csv` [documentation](http://pandas.pydata.org/pandas-docs/stable/generated/pandas.read_csv.html)."
   ]
  },
  {
   "cell_type": "code",
   "execution_count": null,
   "metadata": {
    "collapsed": false
   },
   "outputs": [],
   "source": [
    "sms = pd.read_csv(data_file, sep='\\t', header=None, names=['label', 'message'])\n",
    "sms.head()"
   ]
  },
  {
   "cell_type": "markdown",
   "metadata": {},
   "source": [
    "## Data modelling\n",
    "\n",
    "Before we start modelling, let's split our data into training and test so we can measure the accuracy of our final model:"
   ]
  },
  {
   "cell_type": "code",
   "execution_count": null,
   "metadata": {
    "collapsed": false
   },
   "outputs": [],
   "source": [
    "X = sms['message']\n",
    "y = sms['label']\n",
    "\n",
    "X_train, X_test, y_train, y_test = train_test_split(X, y, test_size=0.5, stratify=y, random_state=0)"
   ]
  },
  {
   "cell_type": "markdown",
   "metadata": {},
   "source": [
    "### Data transformation\n",
    "\n",
    "Our data is in the form of raw text. This was fine when we were using a rule-based model, but it won't work with $k$ nearest neighbours. Instead, we'll need to transform the data into a numerical representation. One popular way to do this with text data is to compute *term frequency* (TF) and *inverse document frequency* (IDF) measures:\n",
    "\n",
    "- Term frequency is a measure of how often a given term appears in a given document, e.g. how often the word \"free\" appears in a given SMS message. The more often a word appears in a document, the higher its term frequency.\n",
    "- Inverse document frequency is a measure of how rare a word is in a set of documents, e.g. the word \"the\" appears commonly in many SMS messages and so its presence (or absence) provides little information when it comes to distinguishing spam from ham. The higher the inverse document frequency of a word, the rarer it is (and, therefore, the more distinguishing power it has).\n",
    "\n",
    "Typically, term frequency and inverse document frequency are combined as a single metric, [*term frequency-inverse document frequency*](https://en.wikipedia.org/wiki/Tf%E2%80%93idf) (TF-IDF), which is simply the multiple of the individual values. Consequently, if a term has a high TF-IDF score, its presence across a set of documents (e.g. SMS messages) is low, while its number of occurrences in a given document (e.g. a candidate SMS message under evaluation) is high. If a term has a low TF-IDF score, this is an indicator that it doesn't appear very frequently in a given document, occurs very frequently across the set of documents, or both. We can exploit this information to find terms that can distinguish a certain set of documents (e.g. spam) from a larger set of documents.\n",
    "\n",
    "\n",
    "### Dummy modelling\n",
    "\n",
    "Before we build the $k$ nearest neighbours model, let's build a dummy model, i.e. a naive model that predicts new values using a simple strategy. Dummy models are usually not good predictors (we usually won't use them to solve real problems), but are useful because they provide a baseline accuracy measurement for the data set, from which we can gauge the accuracy of any further models we build. In Lab 05, we built a rule-based model for SMS message spam detection for this purpose.\n",
    "\n",
    "`scikit-learn` provides dummy model functionality via the [`dummy`](http://scikit-learn.org/stable/modules/classes.html#module-sklearn.dummy) subpackage. This subpackage provides both dummy regression and classification algorithms, which can be customised with different strategies. We can use the [`DummyClassifier`](http://scikit-learn.org/stable/modules/generated/sklearn.dummy.DummyClassifier.html#sklearn.dummy.DummyClassifier) class to build a dummy classification model. `DummyClassifier` supports five different strategies for predicting values:\n",
    "\n",
    "1. `strategy='stratified'`: Predict new values randomly, but in proportion to their frequency in the training set.\n",
    "2. `strategy='most_frequent'`: Predict new values as the most frequently occurring target variable in the training set.\n",
    "3. `strategy='prior'`: Predict new values as the most frequently occurring target variable in the training set. This is essentially the same as `strategy='most_frequent'`, but returns different values when the `predict_proba` method is called.\n",
    "4. `strategy='uniform'`: Predict new values randomly, with equal probability.\n",
    "5. `strategy='constant'`: Predict new values as some constant value (the constant value must also be specified using the `constant` keyword argument).\n",
    "\n",
    "Let's build a model that predicts new values in proportion to their occurrence in the training set. As usual, we create an instance of the model building class and then use the `fit` method to fit it to the training data:"
   ]
  },
  {
   "cell_type": "code",
   "execution_count": null,
   "metadata": {
    "collapsed": false
   },
   "outputs": [],
   "source": [
    "pipeline = make_pipeline(\n",
    "    TfidfVectorizer(stop_words=stop_words.ENGLISH_STOP_WORDS), # Remove stop words before computing TF-IDF\n",
    "    DummyClassifier(strategy='stratified')\n",
    ")\n",
    "pipeline.fit(X_train, y_train)\n",
    "y_pred = pipeline.predict(X_test)\n",
    "\n",
    "print(classification_report(y_test, y_pred))"
   ]
  },
  {
   "cell_type": "markdown",
   "metadata": {},
   "source": [
    "As can be seen, the dummy model is a poor fit for the data and performs worse than our simple rule-based model from Lab 05. But it does give us a baseline error level from which we can improve. Let's build a $k$ nearest neighbours model and see what the difference is.\n",
    "\n",
    "### $k$ nearest neighbours modelling\n",
    "\n",
    "Let's use model selection via cross validation to select the optimal $k$ nearest neighbours model from a set of candidates:\n",
    "\n",
    "> **Note:** The grid search could take a few minutes to complete, depending on the amount of processing power  you have available."
   ]
  },
  {
   "cell_type": "code",
   "execution_count": null,
   "metadata": {
    "collapsed": false
   },
   "outputs": [],
   "source": [
    "pipeline = make_pipeline(\n",
    "    TfidfVectorizer(stop_words=stop_words.ENGLISH_STOP_WORDS),\n",
    "    KNeighborsClassifier()\n",
    ")\n",
    "\n",
    "parameters = {\n",
    "    'kneighborsclassifier__n_neighbors': [1, 2, 3, 4, 5, 10, 15, 20],\n",
    "    'kneighborsclassifier__weights': ['uniform', 'distance'],\n",
    "    'kneighborsclassifier__metric': ['manhattan', 'euclidean']\n",
    "}\n",
    "\n",
    "gs = GridSearchCV(pipeline, parameters, cv=5, n_jobs=-1) # n_jobs=-1 uses all available CPUs for calculation\n",
    "gs.fit(X_train, y_train) # Fit using the training set"
   ]
  },
  {
   "cell_type": "markdown",
   "metadata": {},
   "source": [
    "We can check the parameters of the selected model using the `best_params_` attribute of the fitted grid search:"
   ]
  },
  {
   "cell_type": "code",
   "execution_count": null,
   "metadata": {
    "collapsed": false
   },
   "outputs": [],
   "source": [
    "gs.best_params_"
   ]
  },
  {
   "cell_type": "markdown",
   "metadata": {},
   "source": [
    "Finally, we can use our model to predict the classes of our test set data and print a classification report to compare the results to the dummy model above and the rule-based model from Lab 05:"
   ]
  },
  {
   "cell_type": "code",
   "execution_count": null,
   "metadata": {
    "collapsed": false
   },
   "outputs": [],
   "source": [
    "y_pred = gs.predict(X_test)\n",
    "\n",
    "print(classification_report(y_test, y_pred))"
   ]
  },
  {
   "cell_type": "markdown",
   "metadata": {},
   "source": [
    "The model is much more accurate than both the dummy model above and the rule-based model from Lab 05. Specifically, we can say that:\n",
    "\n",
    "- 92% of the messages we labelled as ham were actually ham (precision for ham = 0.92).\n",
    "- 100% of the messages we labelled as spam were actually spam (precision for spam = 1.00).\n",
    "- We labelled every actual ham as ham (recall for ham = 1.00).\n",
    "- We labelled 47% of spam as spam (recall for spam = 0.47).\n",
    "\n",
    "While no ham was misclassified as spam, we only managed to filter 47% of spam emails (approximately one in every two). Next week, we'll use decision tree classifiers to improve on this."
   ]
  }
 ],
 "metadata": {
  "kernelspec": {
   "display_name": "Python 2",
   "language": "python",
   "name": "python2"
  },
  "language_info": {
   "codemirror_mode": {
    "name": "ipython",
    "version": 2
   },
   "file_extension": ".py",
   "mimetype": "text/x-python",
   "name": "python",
   "nbconvert_exporter": "python",
   "pygments_lexer": "ipython2",
   "version": "2.7.12+"
  }
 },
 "nbformat": 4,
 "nbformat_minor": 0
}
