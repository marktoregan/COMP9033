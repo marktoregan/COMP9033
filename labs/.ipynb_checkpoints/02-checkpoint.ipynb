{
 "cells": [
  {
   "cell_type": "markdown",
   "metadata": {
    "deletable": true,
    "editable": true
   },
   "source": [
    "# COMP9033 - Data Analytics Lab 02: Introduction to exploratory data analysis\n",
    "## Introduction\n",
    "\n",
    "This week's lab provides a practical introduction to exploratory data analysis. At the end of the lab, you should be able to use pandas to:\n",
    "\n",
    "- Load data from a CSV file.\n",
    "- Select data by row, column and cell.\n",
    "- Plot the data.\n",
    "- Compute summary statistics about the data.\n",
    "\n",
    "The lab is longer than last week, but it is not too difficult. The trickiest aspect will probably be getting the hang of a new Python library called pandas.\n",
    "\n",
    "### Packages \n",
    "Before starting this lab install the following python packages:\n",
    "\n",
    "- seaborn\n",
    "\n",
    "### Pandas\n",
    "\n",
    "This week's lab involves the use of the pandas Python library. Before getting started, you should watch the brief *10-minute tour of pandas* video. You don't need to understand everything in the video to do the lab, but it should give you a good idea of what pandas is and what it can do. To display the video in your browser, click in the cell below and press `Shift`-`Enter`."
   ]
  },
  {
   "cell_type": "code",
   "execution_count": 6,
   "metadata": {
    "collapsed": false,
    "deletable": true,
    "editable": true
   },
   "outputs": [
    {
     "data": {
      "text/html": [
       "\n",
       "        <iframe\n",
       "            width=\"800\"\n",
       "            height=\"600\"\n",
       "            src=\"https://player.vimeo.com/video/59324550\"\n",
       "            frameborder=\"0\"\n",
       "            allowfullscreen\n",
       "        ></iframe>\n",
       "        "
      ],
      "text/plain": [
       "<IPython.lib.display.VimeoVideo at 0x7f59c1aa1d90>"
      ]
     },
     "execution_count": 6,
     "metadata": {},
     "output_type": "execute_result"
    }
   ],
   "source": [
    "from IPython.display import VimeoVideo\n",
    "VimeoVideo(59324550, width=800, height=600)"
   ]
  },
  {
   "cell_type": "markdown",
   "metadata": {
    "deletable": true,
    "editable": true
   },
   "source": [
    "## Pandas basics\n",
    "\n",
    "In this lab, we're going to look at registered birth names, as recorded in the United States between 1880 and 2010. Let's start by ensuring that plots appear inline (recall from last week that we need to write the IPython *magic* command `%matplotlib inline` to do this) and importing the packages that we'll need:"
   ]
  },
  {
   "cell_type": "code",
   "execution_count": 4,
   "metadata": {
    "collapsed": false,
    "deletable": true,
    "editable": true
   },
   "outputs": [],
   "source": [
    "%matplotlib inline\n",
    "import pandas as pd   # Import the pandas module (this also imports matplotlib)\n",
    "import seaborn as sns # Override the default matplotlib options to make our plots look nice"
   ]
  },
  {
   "cell_type": "markdown",
   "metadata": {
    "deletable": true,
    "editable": true
   },
   "source": [
    "### Loading CSV data\n",
    "\n",
    "Now that we've imported the pandas module, we can use it to load data from a CSV file, so that we can explore and manipulate the data using Python, right here in the browser.\n",
    "\n",
    "To get started, we need to enter the location of our CSV file.\n",
    "\n",
    "> **Note:** If you have extracted the files for this lab in the same order they were archived in, then you shouldn't need to update the location of the CSV file.\n",
    "> \n",
    "> If you have changed the location, don't worry - just update it below.\n",
    "\n",
    "Enter the location of the CSV file in the next cell:"
   ]
  },
  {
   "cell_type": "code",
   "execution_count": 5,
   "metadata": {
    "collapsed": false,
    "deletable": true,
    "editable": true
   },
   "outputs": [],
   "source": [
    "path_to_csv_file = \"data/baby_names.csv\""
   ]
  },
  {
   "cell_type": "markdown",
   "metadata": {
    "deletable": true,
    "editable": true
   },
   "source": [
    "Loading CSV files is easy in pandas - all we need to do is pass the name of the file to the [`read_csv`](http://pandas.pydata.org/pandas-docs/stable/generated/pandas.read_csv.html) method. Before we get started though, we need to think about how we're going to use the data in the file.\n",
    "\n",
    "If you open the file manually (e.g. using speadsheet software), you'll see that the name of the first column is \"year\" and that the names of the other columns correspond to male and female names. The year column is important because it *indexes* the names, i.e. it provides a structure by which we can query the data. For example, we can tell how many people were named \"John (M)\" in a particular year by looking up the row corresponding to that year under the \"John (M)\" column.\n",
    "\n",
    "If we import a CSV file using the `read_csv` method, we can specify the index column to use by passing the optional argument `index_col`.\n",
    "\n",
    "> **Note:** We don't have to pass the `index_col` argument if we don't want to, but having an index makes things much simpler later on.\n",
    "\n",
    "Let's load the CSV data now by calling the `read_csv` method and setting the optional `index_col` argument to `'year'`, so that the year column is used to index the data:"
   ]
  },
  {
   "cell_type": "code",
   "execution_count": 6,
   "metadata": {
    "collapsed": false,
    "deletable": true,
    "editable": true
   },
   "outputs": [],
   "source": [
    "df = pd.read_csv(path_to_csv_file, index_col='year')"
   ]
  },
  {
   "cell_type": "markdown",
   "metadata": {
    "deletable": true,
    "editable": true
   },
   "source": [
    "### Data frames\n",
    "\n",
    "In pandas, data is represented using the *data frame* object. A data frame is very similar to a spreadsheet, in the sense that it has a tabular layout, consisting of rows and columns. However, data frames are in many ways much more powerful tools than spreadsheets because they allow us to directly manipulate rows, columns and individual data cells using Python.\n",
    "\n",
    "> **Note:** When we loaded the CSV file above, we copied its contents into a pandas data frame, which we will refer to using the name `df` (this is by convention).\n",
    "\n",
    "The amount of data in the CSV file is large! We can check the number of rows and columns using the `shape` attribute of the data frame, like this:\n",
    "\n",
    "> **Note:** `shape` is an *attribute* of the data frame not a *method*, so we don't need to append brackets (e.g. `df.shape()`) as we would normally."
   ]
  },
  {
   "cell_type": "code",
   "execution_count": 7,
   "metadata": {
    "collapsed": false,
    "deletable": true,
    "editable": true
   },
   "outputs": [
    {
     "data": {
      "text/plain": [
       "(131, 98148)"
      ]
     },
     "execution_count": 7,
     "metadata": {},
     "output_type": "execute_result"
    }
   ],
   "source": [
    "df.shape"
   ]
  },
  {
   "cell_type": "markdown",
   "metadata": {
    "deletable": true,
    "editable": true
   },
   "source": [
    "You should have 131 rows and 98148 columns in your data frame - that's a lot to visualise in one go! Instead, why don't we just look a the first few rows? We can do this in pandas using the [`head`](http://pandas.pydata.org/pandas-docs/stable/generated/pandas.DataFrame.head.html#pandas.DataFrame.head) method of the data frame, which works in a similar way to the Linux command of the same name. To see the first few rows of the data frame, run the cell below:"
   ]
  },
  {
   "cell_type": "code",
   "execution_count": 6,
   "metadata": {
    "collapsed": false,
    "deletable": true,
    "editable": true
   },
   "outputs": [
    {
     "data": {
      "text/html": [
       "<div>\n",
       "<table border=\"1\" class=\"dataframe\">\n",
       "  <thead>\n",
       "    <tr style=\"text-align: right;\">\n",
       "      <th></th>\n",
       "      <th>Mary (F)</th>\n",
       "      <th>Helen (F)</th>\n",
       "      <th>Dorothy (F)</th>\n",
       "      <th>Margaret (F)</th>\n",
       "      <th>Ruth (F)</th>\n",
       "      <th>Mildred (F)</th>\n",
       "      <th>Anna (F)</th>\n",
       "      <th>Elizabeth (F)</th>\n",
       "      <th>Frances (F)</th>\n",
       "      <th>Evelyn (F)</th>\n",
       "      <th>...</th>\n",
       "      <th>Gerall (M)</th>\n",
       "      <th>Gero (M)</th>\n",
       "      <th>Hyung (M)</th>\n",
       "      <th>Kandy (M)</th>\n",
       "      <th>Maurey (M)</th>\n",
       "      <th>Murali (M)</th>\n",
       "      <th>Petre (M)</th>\n",
       "      <th>Santoi (M)</th>\n",
       "      <th>Suen (M)</th>\n",
       "      <th>Trinell (M)</th>\n",
       "    </tr>\n",
       "    <tr>\n",
       "      <th>year</th>\n",
       "      <th></th>\n",
       "      <th></th>\n",
       "      <th></th>\n",
       "      <th></th>\n",
       "      <th></th>\n",
       "      <th></th>\n",
       "      <th></th>\n",
       "      <th></th>\n",
       "      <th></th>\n",
       "      <th></th>\n",
       "      <th></th>\n",
       "      <th></th>\n",
       "      <th></th>\n",
       "      <th></th>\n",
       "      <th></th>\n",
       "      <th></th>\n",
       "      <th></th>\n",
       "      <th></th>\n",
       "      <th></th>\n",
       "      <th></th>\n",
       "      <th></th>\n",
       "    </tr>\n",
       "  </thead>\n",
       "  <tbody>\n",
       "    <tr>\n",
       "      <th>1880</th>\n",
       "      <td>7065.0</td>\n",
       "      <td>636.0</td>\n",
       "      <td>112.0</td>\n",
       "      <td>1578.0</td>\n",
       "      <td>234.0</td>\n",
       "      <td>132.0</td>\n",
       "      <td>2604.0</td>\n",
       "      <td>1939.0</td>\n",
       "      <td>605.0</td>\n",
       "      <td>122.0</td>\n",
       "      <td>...</td>\n",
       "      <td>0.0</td>\n",
       "      <td>0.0</td>\n",
       "      <td>0.0</td>\n",
       "      <td>0.0</td>\n",
       "      <td>0.0</td>\n",
       "      <td>0.0</td>\n",
       "      <td>0.0</td>\n",
       "      <td>0.0</td>\n",
       "      <td>0.0</td>\n",
       "      <td>0.0</td>\n",
       "    </tr>\n",
       "    <tr>\n",
       "      <th>1881</th>\n",
       "      <td>6919.0</td>\n",
       "      <td>612.0</td>\n",
       "      <td>109.0</td>\n",
       "      <td>1658.0</td>\n",
       "      <td>276.0</td>\n",
       "      <td>154.0</td>\n",
       "      <td>2698.0</td>\n",
       "      <td>1852.0</td>\n",
       "      <td>586.0</td>\n",
       "      <td>116.0</td>\n",
       "      <td>...</td>\n",
       "      <td>0.0</td>\n",
       "      <td>0.0</td>\n",
       "      <td>0.0</td>\n",
       "      <td>0.0</td>\n",
       "      <td>0.0</td>\n",
       "      <td>0.0</td>\n",
       "      <td>0.0</td>\n",
       "      <td>0.0</td>\n",
       "      <td>0.0</td>\n",
       "      <td>0.0</td>\n",
       "    </tr>\n",
       "    <tr>\n",
       "      <th>1882</th>\n",
       "      <td>8149.0</td>\n",
       "      <td>838.0</td>\n",
       "      <td>115.0</td>\n",
       "      <td>1821.0</td>\n",
       "      <td>323.0</td>\n",
       "      <td>172.0</td>\n",
       "      <td>3143.0</td>\n",
       "      <td>2187.0</td>\n",
       "      <td>681.0</td>\n",
       "      <td>125.0</td>\n",
       "      <td>...</td>\n",
       "      <td>0.0</td>\n",
       "      <td>0.0</td>\n",
       "      <td>0.0</td>\n",
       "      <td>0.0</td>\n",
       "      <td>0.0</td>\n",
       "      <td>0.0</td>\n",
       "      <td>0.0</td>\n",
       "      <td>0.0</td>\n",
       "      <td>0.0</td>\n",
       "      <td>0.0</td>\n",
       "    </tr>\n",
       "    <tr>\n",
       "      <th>1883</th>\n",
       "      <td>8012.0</td>\n",
       "      <td>862.0</td>\n",
       "      <td>141.0</td>\n",
       "      <td>1881.0</td>\n",
       "      <td>387.0</td>\n",
       "      <td>183.0</td>\n",
       "      <td>3306.0</td>\n",
       "      <td>2255.0</td>\n",
       "      <td>710.0</td>\n",
       "      <td>139.0</td>\n",
       "      <td>...</td>\n",
       "      <td>0.0</td>\n",
       "      <td>0.0</td>\n",
       "      <td>0.0</td>\n",
       "      <td>0.0</td>\n",
       "      <td>0.0</td>\n",
       "      <td>0.0</td>\n",
       "      <td>0.0</td>\n",
       "      <td>0.0</td>\n",
       "      <td>0.0</td>\n",
       "      <td>0.0</td>\n",
       "    </tr>\n",
       "    <tr>\n",
       "      <th>1884</th>\n",
       "      <td>9217.0</td>\n",
       "      <td>986.0</td>\n",
       "      <td>163.0</td>\n",
       "      <td>2143.0</td>\n",
       "      <td>442.0</td>\n",
       "      <td>247.0</td>\n",
       "      <td>3860.0</td>\n",
       "      <td>2549.0</td>\n",
       "      <td>789.0</td>\n",
       "      <td>170.0</td>\n",
       "      <td>...</td>\n",
       "      <td>0.0</td>\n",
       "      <td>0.0</td>\n",
       "      <td>0.0</td>\n",
       "      <td>0.0</td>\n",
       "      <td>0.0</td>\n",
       "      <td>0.0</td>\n",
       "      <td>0.0</td>\n",
       "      <td>0.0</td>\n",
       "      <td>0.0</td>\n",
       "      <td>0.0</td>\n",
       "    </tr>\n",
       "  </tbody>\n",
       "</table>\n",
       "<p>5 rows × 98148 columns</p>\n",
       "</div>"
      ],
      "text/plain": [
       "      Mary (F)  Helen (F)  Dorothy (F)  Margaret (F)  Ruth (F)  Mildred (F)  \\\n",
       "year                                                                          \n",
       "1880    7065.0      636.0        112.0        1578.0     234.0        132.0   \n",
       "1881    6919.0      612.0        109.0        1658.0     276.0        154.0   \n",
       "1882    8149.0      838.0        115.0        1821.0     323.0        172.0   \n",
       "1883    8012.0      862.0        141.0        1881.0     387.0        183.0   \n",
       "1884    9217.0      986.0        163.0        2143.0     442.0        247.0   \n",
       "\n",
       "      Anna (F)  Elizabeth (F)  Frances (F)  Evelyn (F)     ...       \\\n",
       "year                                                       ...        \n",
       "1880    2604.0         1939.0        605.0       122.0     ...        \n",
       "1881    2698.0         1852.0        586.0       116.0     ...        \n",
       "1882    3143.0         2187.0        681.0       125.0     ...        \n",
       "1883    3306.0         2255.0        710.0       139.0     ...        \n",
       "1884    3860.0         2549.0        789.0       170.0     ...        \n",
       "\n",
       "      Gerall (M)  Gero (M)  Hyung (M)  Kandy (M)  Maurey (M)  Murali (M)  \\\n",
       "year                                                                       \n",
       "1880         0.0       0.0        0.0        0.0         0.0         0.0   \n",
       "1881         0.0       0.0        0.0        0.0         0.0         0.0   \n",
       "1882         0.0       0.0        0.0        0.0         0.0         0.0   \n",
       "1883         0.0       0.0        0.0        0.0         0.0         0.0   \n",
       "1884         0.0       0.0        0.0        0.0         0.0         0.0   \n",
       "\n",
       "      Petre (M)  Santoi (M)  Suen (M)  Trinell (M)  \n",
       "year                                                \n",
       "1880        0.0         0.0       0.0          0.0  \n",
       "1881        0.0         0.0       0.0          0.0  \n",
       "1882        0.0         0.0       0.0          0.0  \n",
       "1883        0.0         0.0       0.0          0.0  \n",
       "1884        0.0         0.0       0.0          0.0  \n",
       "\n",
       "[5 rows x 98148 columns]"
      ]
     },
     "execution_count": 6,
     "metadata": {},
     "output_type": "execute_result"
    }
   ],
   "source": [
    "df.head()"
   ]
  },
  {
   "cell_type": "markdown",
   "metadata": {
    "deletable": true,
    "editable": true
   },
   "source": [
    "We can also check out the last few rows using the [`tail`](http://pandas.pydata.org/pandas-docs/stable/generated/pandas.DataFrame.tail.html#pandas.DataFrame.tail) method, like this:"
   ]
  },
  {
   "cell_type": "code",
   "execution_count": 7,
   "metadata": {
    "collapsed": false,
    "deletable": true,
    "editable": true
   },
   "outputs": [
    {
     "data": {
      "text/html": [
       "<div>\n",
       "<table border=\"1\" class=\"dataframe\">\n",
       "  <thead>\n",
       "    <tr style=\"text-align: right;\">\n",
       "      <th></th>\n",
       "      <th>Mary (F)</th>\n",
       "      <th>Helen (F)</th>\n",
       "      <th>Dorothy (F)</th>\n",
       "      <th>Margaret (F)</th>\n",
       "      <th>Ruth (F)</th>\n",
       "      <th>Mildred (F)</th>\n",
       "      <th>Anna (F)</th>\n",
       "      <th>Elizabeth (F)</th>\n",
       "      <th>Frances (F)</th>\n",
       "      <th>Evelyn (F)</th>\n",
       "      <th>...</th>\n",
       "      <th>Gerall (M)</th>\n",
       "      <th>Gero (M)</th>\n",
       "      <th>Hyung (M)</th>\n",
       "      <th>Kandy (M)</th>\n",
       "      <th>Maurey (M)</th>\n",
       "      <th>Murali (M)</th>\n",
       "      <th>Petre (M)</th>\n",
       "      <th>Santoi (M)</th>\n",
       "      <th>Suen (M)</th>\n",
       "      <th>Trinell (M)</th>\n",
       "    </tr>\n",
       "    <tr>\n",
       "      <th>year</th>\n",
       "      <th></th>\n",
       "      <th></th>\n",
       "      <th></th>\n",
       "      <th></th>\n",
       "      <th></th>\n",
       "      <th></th>\n",
       "      <th></th>\n",
       "      <th></th>\n",
       "      <th></th>\n",
       "      <th></th>\n",
       "      <th></th>\n",
       "      <th></th>\n",
       "      <th></th>\n",
       "      <th></th>\n",
       "      <th></th>\n",
       "      <th></th>\n",
       "      <th></th>\n",
       "      <th></th>\n",
       "      <th></th>\n",
       "      <th></th>\n",
       "      <th></th>\n",
       "    </tr>\n",
       "  </thead>\n",
       "  <tbody>\n",
       "    <tr>\n",
       "      <th>2006</th>\n",
       "      <td>4073.0</td>\n",
       "      <td>946.0</td>\n",
       "      <td>264.0</td>\n",
       "      <td>2188.0</td>\n",
       "      <td>888.0</td>\n",
       "      <td>76.0</td>\n",
       "      <td>8590.0</td>\n",
       "      <td>12397.0</td>\n",
       "      <td>358.0</td>\n",
       "      <td>4745.0</td>\n",
       "      <td>...</td>\n",
       "      <td>0.0</td>\n",
       "      <td>0.0</td>\n",
       "      <td>0.0</td>\n",
       "      <td>0.0</td>\n",
       "      <td>0.0</td>\n",
       "      <td>0.0</td>\n",
       "      <td>0.0</td>\n",
       "      <td>0.0</td>\n",
       "      <td>0.0</td>\n",
       "      <td>0.0</td>\n",
       "    </tr>\n",
       "    <tr>\n",
       "      <th>2007</th>\n",
       "      <td>3665.0</td>\n",
       "      <td>930.0</td>\n",
       "      <td>260.0</td>\n",
       "      <td>2022.0</td>\n",
       "      <td>953.0</td>\n",
       "      <td>93.0</td>\n",
       "      <td>7866.0</td>\n",
       "      <td>13013.0</td>\n",
       "      <td>347.0</td>\n",
       "      <td>5045.0</td>\n",
       "      <td>...</td>\n",
       "      <td>0.0</td>\n",
       "      <td>0.0</td>\n",
       "      <td>0.0</td>\n",
       "      <td>0.0</td>\n",
       "      <td>0.0</td>\n",
       "      <td>0.0</td>\n",
       "      <td>0.0</td>\n",
       "      <td>0.0</td>\n",
       "      <td>0.0</td>\n",
       "      <td>0.0</td>\n",
       "    </tr>\n",
       "    <tr>\n",
       "      <th>2008</th>\n",
       "      <td>3478.0</td>\n",
       "      <td>883.0</td>\n",
       "      <td>241.0</td>\n",
       "      <td>1856.0</td>\n",
       "      <td>923.0</td>\n",
       "      <td>87.0</td>\n",
       "      <td>7236.0</td>\n",
       "      <td>11956.0</td>\n",
       "      <td>366.0</td>\n",
       "      <td>5090.0</td>\n",
       "      <td>...</td>\n",
       "      <td>0.0</td>\n",
       "      <td>0.0</td>\n",
       "      <td>0.0</td>\n",
       "      <td>0.0</td>\n",
       "      <td>0.0</td>\n",
       "      <td>0.0</td>\n",
       "      <td>0.0</td>\n",
       "      <td>0.0</td>\n",
       "      <td>0.0</td>\n",
       "      <td>0.0</td>\n",
       "    </tr>\n",
       "    <tr>\n",
       "      <th>2009</th>\n",
       "      <td>3132.0</td>\n",
       "      <td>824.0</td>\n",
       "      <td>226.0</td>\n",
       "      <td>1755.0</td>\n",
       "      <td>908.0</td>\n",
       "      <td>68.0</td>\n",
       "      <td>6755.0</td>\n",
       "      <td>10969.0</td>\n",
       "      <td>354.0</td>\n",
       "      <td>5576.0</td>\n",
       "      <td>...</td>\n",
       "      <td>0.0</td>\n",
       "      <td>0.0</td>\n",
       "      <td>0.0</td>\n",
       "      <td>0.0</td>\n",
       "      <td>0.0</td>\n",
       "      <td>0.0</td>\n",
       "      <td>0.0</td>\n",
       "      <td>0.0</td>\n",
       "      <td>0.0</td>\n",
       "      <td>0.0</td>\n",
       "    </tr>\n",
       "    <tr>\n",
       "      <th>2010</th>\n",
       "      <td>2826.0</td>\n",
       "      <td>696.0</td>\n",
       "      <td>235.0</td>\n",
       "      <td>1676.0</td>\n",
       "      <td>915.0</td>\n",
       "      <td>68.0</td>\n",
       "      <td>6242.0</td>\n",
       "      <td>10135.0</td>\n",
       "      <td>348.0</td>\n",
       "      <td>5802.0</td>\n",
       "      <td>...</td>\n",
       "      <td>0.0</td>\n",
       "      <td>0.0</td>\n",
       "      <td>0.0</td>\n",
       "      <td>0.0</td>\n",
       "      <td>0.0</td>\n",
       "      <td>0.0</td>\n",
       "      <td>0.0</td>\n",
       "      <td>0.0</td>\n",
       "      <td>0.0</td>\n",
       "      <td>0.0</td>\n",
       "    </tr>\n",
       "  </tbody>\n",
       "</table>\n",
       "<p>5 rows × 98148 columns</p>\n",
       "</div>"
      ],
      "text/plain": [
       "      Mary (F)  Helen (F)  Dorothy (F)  Margaret (F)  Ruth (F)  Mildred (F)  \\\n",
       "year                                                                          \n",
       "2006    4073.0      946.0        264.0        2188.0     888.0         76.0   \n",
       "2007    3665.0      930.0        260.0        2022.0     953.0         93.0   \n",
       "2008    3478.0      883.0        241.0        1856.0     923.0         87.0   \n",
       "2009    3132.0      824.0        226.0        1755.0     908.0         68.0   \n",
       "2010    2826.0      696.0        235.0        1676.0     915.0         68.0   \n",
       "\n",
       "      Anna (F)  Elizabeth (F)  Frances (F)  Evelyn (F)     ...       \\\n",
       "year                                                       ...        \n",
       "2006    8590.0        12397.0        358.0      4745.0     ...        \n",
       "2007    7866.0        13013.0        347.0      5045.0     ...        \n",
       "2008    7236.0        11956.0        366.0      5090.0     ...        \n",
       "2009    6755.0        10969.0        354.0      5576.0     ...        \n",
       "2010    6242.0        10135.0        348.0      5802.0     ...        \n",
       "\n",
       "      Gerall (M)  Gero (M)  Hyung (M)  Kandy (M)  Maurey (M)  Murali (M)  \\\n",
       "year                                                                       \n",
       "2006         0.0       0.0        0.0        0.0         0.0         0.0   \n",
       "2007         0.0       0.0        0.0        0.0         0.0         0.0   \n",
       "2008         0.0       0.0        0.0        0.0         0.0         0.0   \n",
       "2009         0.0       0.0        0.0        0.0         0.0         0.0   \n",
       "2010         0.0       0.0        0.0        0.0         0.0         0.0   \n",
       "\n",
       "      Petre (M)  Santoi (M)  Suen (M)  Trinell (M)  \n",
       "year                                                \n",
       "2006        0.0         0.0       0.0          0.0  \n",
       "2007        0.0         0.0       0.0          0.0  \n",
       "2008        0.0         0.0       0.0          0.0  \n",
       "2009        0.0         0.0       0.0          0.0  \n",
       "2010        0.0         0.0       0.0          0.0  \n",
       "\n",
       "[5 rows x 98148 columns]"
      ]
     },
     "execution_count": 7,
     "metadata": {},
     "output_type": "execute_result"
    }
   ],
   "source": [
    "df.tail()"
   ]
  },
  {
   "cell_type": "markdown",
   "metadata": {
    "deletable": true,
    "editable": true
   },
   "source": [
    "We can get a list of the years represented in the data frame using the [`index`](http://pandas.pydata.org/pandas-docs/stable/api.html#attributes-and-underlying-data) attribute of the data frame (recall that we used the year column in the CSV file as our index), like this:"
   ]
  },
  {
   "cell_type": "code",
   "execution_count": 8,
   "metadata": {
    "collapsed": false,
    "deletable": true,
    "editable": true
   },
   "outputs": [
    {
     "data": {
      "text/plain": [
       "Int64Index([1880, 1881, 1882, 1883, 1884, 1885, 1886, 1887, 1888, 1889,\n",
       "            ...\n",
       "            2001, 2002, 2003, 2004, 2005, 2006, 2007, 2008, 2009, 2010],\n",
       "           dtype='int64', name=u'year', length=131)"
      ]
     },
     "execution_count": 8,
     "metadata": {},
     "output_type": "execute_result"
    }
   ],
   "source": [
    "df.index"
   ]
  },
  {
   "cell_type": "markdown",
   "metadata": {
    "deletable": true,
    "editable": true
   },
   "source": [
    "Similarly, we can get a list of the column names using the [`columns`](http://pandas.pydata.org/pandas-docs/stable/api.html#attributes-and-underlying-data) attribute, like this:"
   ]
  },
  {
   "cell_type": "code",
   "execution_count": 11,
   "metadata": {
    "collapsed": false,
    "deletable": true,
    "editable": true
   },
   "outputs": [
    {
     "data": {
      "text/plain": [
       "Index([u'Mary (F)', u'Helen (F)', u'Dorothy (F)', u'Margaret (F)', u'Ruth (F)',\n",
       "       u'Mildred (F)', u'Anna (F)', u'Elizabeth (F)', u'Frances (F)',\n",
       "       u'Evelyn (F)',\n",
       "       ...\n",
       "       u'Gerall (M)', u'Gero (M)', u'Hyung (M)', u'Kandy (M)', u'Maurey (M)',\n",
       "       u'Murali (M)', u'Petre (M)', u'Santoi (M)', u'Suen (M)',\n",
       "       u'Trinell (M)'],\n",
       "      dtype='object', length=98148)"
      ]
     },
     "execution_count": 11,
     "metadata": {},
     "output_type": "execute_result"
    }
   ],
   "source": [
    "df.columns"
   ]
  },
  {
   "cell_type": "markdown",
   "metadata": {
    "deletable": true,
    "editable": true
   },
   "source": [
    "We can access specific rows of the data using the [`ix`](http://pandas.pydata.org/pandas-docs/stable/generated/pandas.DataFrame.ix.html#pandas.DataFrame.ix) *indexer* of the data frame. For instance, to select the data corresponding to the year 2001, we just need to index into the corresponding row, like this:"
   ]
  },
  {
   "cell_type": "code",
   "execution_count": 10,
   "metadata": {
    "collapsed": false,
    "deletable": true,
    "editable": true
   },
   "outputs": [
    {
     "data": {
      "text/plain": [
       "Mary (F)          5715.0\n",
       "Helen (F)          884.0\n",
       "Dorothy (F)        316.0\n",
       "Margaret (F)      2894.0\n",
       "Ruth (F)           934.0\n",
       "Mildred (F)         75.0\n",
       "Anna (F)         10564.0\n",
       "Elizabeth (F)    14767.0\n",
       "Frances (F)        428.0\n",
       "Evelyn (F)        2692.0\n",
       "Marie (F)          721.0\n",
       "Virginia (F)       753.0\n",
       "Alice (F)          631.0\n",
       "Florence (F)        66.0\n",
       "Lillian (F)       2948.0\n",
       "Rose (F)          1027.0\n",
       "Irene (F)          565.0\n",
       "Louise (F)         108.0\n",
       "Catherine (F)     3725.0\n",
       "Edna (F)           128.0\n",
       "Gladys (F)         184.0\n",
       "Josephine (F)     1153.0\n",
       "Ethel (F)           19.0\n",
       "Ruby (F)          1361.0\n",
       "Martha (F)         740.0\n",
       "Hazel (F)          319.0\n",
       "Grace (F)        12078.0\n",
       "Eleanor (F)        826.0\n",
       "Lucille (F)        192.0\n",
       "Thelma (F)          56.0\n",
       "                  ...   \n",
       "Cosmos (M)           0.0\n",
       "Rossano (M)          0.0\n",
       "Chadly (M)           0.0\n",
       "Dorey (M)            0.0\n",
       "Keffer (M)           0.0\n",
       "Olu (M)              0.0\n",
       "Barin (M)            0.0\n",
       "Erec (M)             0.0\n",
       "Shalako (M)          0.0\n",
       "Talion (M)           0.0\n",
       "Zeljko (M)           0.0\n",
       "Brentwood (M)        0.0\n",
       "Carmelito (M)        0.0\n",
       "Cheyney (M)          0.0\n",
       "Deanne (M)           0.0\n",
       "Denes (M)            0.0\n",
       "Denmark (M)          0.0\n",
       "Galvester (M)        0.0\n",
       "Gandalf (M)          0.0\n",
       "Gantt (M)            0.0\n",
       "Gerall (M)           0.0\n",
       "Gero (M)             0.0\n",
       "Hyung (M)            0.0\n",
       "Kandy (M)            0.0\n",
       "Maurey (M)           0.0\n",
       "Murali (M)           0.0\n",
       "Petre (M)            0.0\n",
       "Santoi (M)           0.0\n",
       "Suen (M)             0.0\n",
       "Trinell (M)          0.0\n",
       "Name: 2001, dtype: float64"
      ]
     },
     "execution_count": 10,
     "metadata": {},
     "output_type": "execute_result"
    }
   ],
   "source": [
    "df.ix[2001]"
   ]
  },
  {
   "cell_type": "markdown",
   "metadata": {
    "deletable": true,
    "editable": true
   },
   "source": [
    "We can select a specific cell by specifying both a row and a column to the indexer. For instance, to select the number of female babies named Mary in 2001, we can write:"
   ]
  },
  {
   "cell_type": "code",
   "execution_count": 9,
   "metadata": {
    "collapsed": false,
    "deletable": true,
    "editable": true
   },
   "outputs": [
    {
     "data": {
      "text/plain": [
       "5715.0"
      ]
     },
     "execution_count": 9,
     "metadata": {},
     "output_type": "execute_result"
    }
   ],
   "source": [
    "df.ix[2001, 'Mary (F)']"
   ]
  },
  {
   "cell_type": "markdown",
   "metadata": {
    "deletable": true,
    "editable": true
   },
   "source": [
    "Alternatively, to select the data for Mary for all years, we can pass the shorthand colon symbol '`:`', like in the cell below. The colon symbol '`:`' is just shorthand for *all the rows*.\n",
    "\n",
    "> **Note:** If we want to select a whole row, then the indexer requires just the row index (e.g. the year). However, If we want to select a column (e.g. 'Mary (F)'), then the indexer requires that we pass both the rows and the column."
   ]
  },
  {
   "cell_type": "code",
   "execution_count": 12,
   "metadata": {
    "collapsed": false,
    "deletable": true,
    "editable": true
   },
   "outputs": [
    {
     "data": {
      "text/plain": [
       "year\n",
       "1880     7065.0\n",
       "1881     6919.0\n",
       "1882     8149.0\n",
       "1883     8012.0\n",
       "1884     9217.0\n",
       "1885     9128.0\n",
       "1886     9891.0\n",
       "1887     9888.0\n",
       "1888    11754.0\n",
       "1889    11649.0\n",
       "1890    12078.0\n",
       "1891    11704.0\n",
       "1892    13174.0\n",
       "1893    12784.0\n",
       "1894    13151.0\n",
       "1895    13446.0\n",
       "1896    13811.0\n",
       "1897    13412.0\n",
       "1898    14406.0\n",
       "1899    13172.0\n",
       "1900    16710.0\n",
       "1901    13137.0\n",
       "1902    14485.0\n",
       "1903    14275.0\n",
       "1904    14962.0\n",
       "1905    16067.0\n",
       "1906    16371.0\n",
       "1907    17579.0\n",
       "1908    18664.0\n",
       "1909    19256.0\n",
       "         ...   \n",
       "1981    11030.0\n",
       "1982    10847.0\n",
       "1983     9889.0\n",
       "1984     9285.0\n",
       "1985     9235.0\n",
       "1986     8499.0\n",
       "1987     8394.0\n",
       "1988     8505.0\n",
       "1989     8641.0\n",
       "1990     8651.0\n",
       "1991     8743.0\n",
       "1992     8430.0\n",
       "1993     8089.0\n",
       "1994     7722.0\n",
       "1995     7408.0\n",
       "1996     6926.0\n",
       "1997     6616.0\n",
       "1998     6415.0\n",
       "1999     6350.0\n",
       "2000     6174.0\n",
       "2001     5715.0\n",
       "2002     5439.0\n",
       "2003     4996.0\n",
       "2004     4792.0\n",
       "2005     4439.0\n",
       "2006     4073.0\n",
       "2007     3665.0\n",
       "2008     3478.0\n",
       "2009     3132.0\n",
       "2010     2826.0\n",
       "Name: Mary (F), dtype: float64"
      ]
     },
     "execution_count": 12,
     "metadata": {},
     "output_type": "execute_result"
    }
   ],
   "source": [
    "df.ix[:, 'Mary (F)']"
   ]
  },
  {
   "cell_type": "markdown",
   "metadata": {
    "deletable": true,
    "editable": true
   },
   "source": [
    "We've now covered the basics of pandas:\n",
    "\n",
    "- How to load CSV files into data frames.\n",
    "- How to peak at the start and end rows of a data frame.\n",
    "- How to get the index row names.\n",
    "- How to get the column names.\n",
    "- How to look at a specific row, a specific column or a specific cell in a data frame.\n",
    "\n",
    "Next, let's explore the data.\n",
    "\n",
    "## Exploratory data analysis\n",
    "### Exploring a specific name\n",
    "\n",
    "Let's start by exploring a specific girl's name: Mary. In our data frame, the corresponding column is named `'Mary (F)'`. To access the data in the column, all we need to do is pass the name of the column to the [`ix`](http://pandas.pydata.org/pandas-docs/stable/generated/pandas.DataFrame.ix.html#pandas.DataFrame.ix) indexer of the data frame, just as we did earlier, like this:"
   ]
  },
  {
   "cell_type": "code",
   "execution_count": 13,
   "metadata": {
    "collapsed": false,
    "deletable": true,
    "editable": true
   },
   "outputs": [
    {
     "data": {
      "text/plain": [
       "year\n",
       "1880     7065.0\n",
       "1881     6919.0\n",
       "1882     8149.0\n",
       "1883     8012.0\n",
       "1884     9217.0\n",
       "1885     9128.0\n",
       "1886     9891.0\n",
       "1887     9888.0\n",
       "1888    11754.0\n",
       "1889    11649.0\n",
       "1890    12078.0\n",
       "1891    11704.0\n",
       "1892    13174.0\n",
       "1893    12784.0\n",
       "1894    13151.0\n",
       "1895    13446.0\n",
       "1896    13811.0\n",
       "1897    13412.0\n",
       "1898    14406.0\n",
       "1899    13172.0\n",
       "1900    16710.0\n",
       "1901    13137.0\n",
       "1902    14485.0\n",
       "1903    14275.0\n",
       "1904    14962.0\n",
       "1905    16067.0\n",
       "1906    16371.0\n",
       "1907    17579.0\n",
       "1908    18664.0\n",
       "1909    19256.0\n",
       "         ...   \n",
       "1981    11030.0\n",
       "1982    10847.0\n",
       "1983     9889.0\n",
       "1984     9285.0\n",
       "1985     9235.0\n",
       "1986     8499.0\n",
       "1987     8394.0\n",
       "1988     8505.0\n",
       "1989     8641.0\n",
       "1990     8651.0\n",
       "1991     8743.0\n",
       "1992     8430.0\n",
       "1993     8089.0\n",
       "1994     7722.0\n",
       "1995     7408.0\n",
       "1996     6926.0\n",
       "1997     6616.0\n",
       "1998     6415.0\n",
       "1999     6350.0\n",
       "2000     6174.0\n",
       "2001     5715.0\n",
       "2002     5439.0\n",
       "2003     4996.0\n",
       "2004     4792.0\n",
       "2005     4439.0\n",
       "2006     4073.0\n",
       "2007     3665.0\n",
       "2008     3478.0\n",
       "2009     3132.0\n",
       "2010     2826.0\n",
       "Name: Mary (F), dtype: float64"
      ]
     },
     "execution_count": 13,
     "metadata": {},
     "output_type": "execute_result"
    }
   ],
   "source": [
    "df.ix[:, 'Mary (F)']"
   ]
  },
  {
   "cell_type": "markdown",
   "metadata": {
    "deletable": true,
    "editable": true
   },
   "source": [
    "We can examine how the popularity of the name Mary has changed over time by calling the [`plot`](http://pandas.pydata.org/pandas-docs/stable/generated/pandas.DataFrame.plot.html#pandas.DataFrame.plot) method after we index into the data frame.\n",
    "\n",
    "> **Note:** Under the hood, the `plot` method of the data frame is actually calling the `plot` method in matplotlib. Conveniently, we don't need to import this module separately - it just works.\n",
    "\n",
    "To generate a plot of the data above, all we need to do is append `.plot()` to the previous statement, like this:"
   ]
  },
  {
   "cell_type": "code",
   "execution_count": 16,
   "metadata": {
    "collapsed": false,
    "deletable": true,
    "editable": true
   },
   "outputs": [
    {
     "data": {
      "text/plain": [
       "<matplotlib.axes._subplots.AxesSubplot at 0x7f35be5a25d0>"
      ]
     },
     "execution_count": 16,
     "metadata": {},
     "output_type": "execute_result"
    },
    {
     "data": {
      "image/png": "[encoded data removed]",
      "text/plain": [
       "<matplotlib.figure.Figure at 0x7f35be5a29d0>"
      ]
     },
     "metadata": {},
     "output_type": "display_data"
    }
   ],
   "source": [
    "df.ix[:, 'Mary (F)'].plot()"
   ]
  },
  {
   "cell_type": "markdown",
   "metadata": {
    "deletable": true,
    "editable": true
   },
   "source": [
    "> **Note:** pandas automatically uses the index of the data frame as the x-axis and the column(s) we've specified as the series to plot.\n",
    "\n",
    "The *Era of Mary* in the United States appears to have taken place between around 1910 and 1970. Let's select this data, so we can look at in more detail. To do this, we must specify an exact year range (as opposed to the shorthand *all the rows* colon operator '`:`') when we index into the data frame, like this:"
   ]
  },
  {
   "cell_type": "code",
   "execution_count": 14,
   "metadata": {
    "collapsed": false,
    "deletable": true,
    "editable": true
   },
   "outputs": [
    {
     "data": {
      "text/plain": [
       "year\n",
       "1910    22840.0\n",
       "1911    24385.0\n",
       "1912    32295.0\n",
       "1913    36631.0\n",
       "1914    45341.0\n",
       "1915    58184.0\n",
       "1916    61428.0\n",
       "1917    64270.0\n",
       "1918    67375.0\n",
       "1919    65839.0\n",
       "1920    70974.0\n",
       "1921    73980.0\n",
       "1922    72156.0\n",
       "1923    71636.0\n",
       "1924    73505.0\n",
       "1925    70594.0\n",
       "1926    67830.0\n",
       "1927    70594.0\n",
       "1928    66867.0\n",
       "1929    63502.0\n",
       "1930    64110.0\n",
       "1931    60303.0\n",
       "1932    59859.0\n",
       "1933    55477.0\n",
       "1934    56898.0\n",
       "1935    55055.0\n",
       "1936    54356.0\n",
       "1937    55635.0\n",
       "1938    56199.0\n",
       "1939    54903.0\n",
       "         ...   \n",
       "1941    58025.0\n",
       "1942    63236.0\n",
       "1943    66156.0\n",
       "1944    62476.0\n",
       "1945    59285.0\n",
       "1946    67437.0\n",
       "1947    71654.0\n",
       "1948    68582.0\n",
       "1949    66809.0\n",
       "1950    65444.0\n",
       "1951    65624.0\n",
       "1952    65699.0\n",
       "1953    64325.0\n",
       "1954    67988.0\n",
       "1955    63159.0\n",
       "1956    61752.0\n",
       "1957    61090.0\n",
       "1958    55832.0\n",
       "1959    54469.0\n",
       "1960    51477.0\n",
       "1961    47651.0\n",
       "1962    43488.0\n",
       "1963    41553.0\n",
       "1964    40978.0\n",
       "1965    34270.0\n",
       "1966    28881.0\n",
       "1967    25317.0\n",
       "1968    21722.0\n",
       "1969    19855.0\n",
       "1970    19199.0\n",
       "Name: Mary (F), dtype: float64"
      ]
     },
     "execution_count": 14,
     "metadata": {},
     "output_type": "execute_result"
    }
   ],
   "source": [
    "df.ix[1910:1970, 'Mary (F)']"
   ]
  },
  {
   "cell_type": "markdown",
   "metadata": {
    "deletable": true,
    "editable": true
   },
   "source": [
    "To save having to write out the complicated indexing notation every time, let's create a new Python variable called `data` and assign the data we want to examine to it:"
   ]
  },
  {
   "cell_type": "code",
   "execution_count": 20,
   "metadata": {
    "collapsed": false,
    "deletable": true,
    "editable": true
   },
   "outputs": [],
   "source": [
    "data = df.ix[1970:2010, 'Cosmo (M)']"
   ]
  },
  {
   "cell_type": "markdown",
   "metadata": {
    "deletable": true,
    "editable": true
   },
   "source": [
    "Now, we can plot the data by calling the `plot` method on the `data` variable, like this:"
   ]
  },
  {
   "cell_type": "code",
   "execution_count": 21,
   "metadata": {
    "collapsed": false,
    "deletable": true,
    "editable": true
   },
   "outputs": [
    {
     "data": {
      "text/plain": [
       "<matplotlib.axes._subplots.AxesSubplot at 0x7fc3dc8cfad0>"
      ]
     },
     "execution_count": 21,
     "metadata": {},
     "output_type": "execute_result"
    },
    {
     "data": {
      "image/png": "[encoded data removed]",
      "text/plain": [
       "<matplotlib.figure.Figure at 0x7fc3dc86e550>"
      ]
     },
     "metadata": {},
     "output_type": "display_data"
    }
   ],
   "source": [
    "data.plot()"
   ]
  },
  {
   "cell_type": "markdown",
   "metadata": {
    "deletable": true,
    "editable": true
   },
   "source": [
    "Next, let's compute some summary statistics about the *Era of Mary*. The pandas data frame object supports the direct computation of a number of statistical measures using instance methods such as [`mean`](http://pandas.pydata.org/pandas-docs/stable/generated/pandas.DataFrame.mean.html#pandas.DataFrame.mean), [`median`](http://pandas.pydata.org/pandas-docs/stable/generated/pandas.DataFrame.median.html#pandas.DataFrame.median), [`min`](http://pandas.pydata.org/pandas-docs/stable/generated/pandas.DataFrame.min.html#pandas.DataFrame.min), [`max`](http://pandas.pydata.org/pandas-docs/stable/generated/pandas.DataFrame.max.html#pandas.DataFrame.max) and [`std`](http://pandas.pydata.org/pandas-docs/stable/generated/pandas.DataFrame.std.html#pandas.DataFrame.std). For instance, to compute the average number of girls named Mary in the data frame, we can write:"
   ]
  },
  {
   "cell_type": "code",
   "execution_count": 22,
   "metadata": {
    "collapsed": false,
    "deletable": true,
    "editable": true
   },
   "outputs": [
    {
     "data": {
      "text/plain": [
       "16.682926829268293"
      ]
     },
     "execution_count": 22,
     "metadata": {},
     "output_type": "execute_result"
    }
   ],
   "source": [
    "data.mean()"
   ]
  },
  {
   "cell_type": "markdown",
   "metadata": {
    "deletable": true,
    "editable": true
   },
   "source": [
    "So, between 1910 and 1970, there were approximately 55,600 girls named Mary each year on average.\n",
    "\n",
    "At this point, you might be asking yourself whether you'll have to write out a line of code to compute each kind of summary statistic you want to compute, but fear not: pandas has a solution. To compute a complete statistical description of a data frame, all we have to do is call the [`describe`](http://pandas.pydata.org/pandas-docs/stable/generated/pandas.DataFrame.describe.html#pandas.DataFrame.describe) method, like this:"
   ]
  },
  {
   "cell_type": "code",
   "execution_count": 23,
   "metadata": {
    "collapsed": false,
    "deletable": true,
    "editable": true
   },
   "outputs": [
    {
     "data": {
      "text/plain": [
       "count    41.000000\n",
       "mean     16.682927\n",
       "std       7.481440\n",
       "min       6.000000\n",
       "25%      12.000000\n",
       "50%      16.000000\n",
       "75%      20.000000\n",
       "max      41.000000\n",
       "Name: Cosmo (M), dtype: float64"
      ]
     },
     "execution_count": 23,
     "metadata": {},
     "output_type": "execute_result"
    }
   ],
   "source": [
    "data.describe()"
   ]
  },
  {
   "cell_type": "markdown",
   "metadata": {
    "deletable": true,
    "editable": true
   },
   "source": [
    "Immediately, we have a lot of new information:\n",
    "\n",
    "- The number of data points we're looking at: `count`.\n",
    "- The arithmetic mean of these points: `mean`.\n",
    "- The *sample* standard deviation: `std`.\n",
    "- The minimum value of the data (i.e. the 0$^{th}$ percentile): `min`.\n",
    "- The first, second (i.e. median) and third quartiles: `25%`, `50%`, `75%`.\n",
    "- The maximum value of the data (i.e. the 100$^{th}$ percentile): `max`.\n",
    "\n",
    "So, with just a few quick Python commands, we can say quite a few things about the name Mary:\n",
    "\n",
    "- On average, in the United States, there were approximately 55,600 female babies named Mary every year from 1910 until 1970.\n",
    "- At least 19,000 girls were called Mary each year.\n",
    "- The highest year saw almost 74,000 girls named Mary.\n",
    "\n",
    "Summary statistics are powerful and pandas makes them simple! If you're done with this section, try changing the rows and columns we assigned to the `data` variable above to plot and describe the popularity of other names during different periods. This should help you to familiarise yourself with pandas' indexing notation.\n",
    "\n",
    "### Exploring a specific year\n",
    "\n",
    "We know how to explore a specific name, how about a specific year? What was the most popular baby name in 1995, for instance? Again, using pandas, this is easy to do. Let's start by indexing into the data frame and assigning the data we want to explore to its own variable:"
   ]
  },
  {
   "cell_type": "code",
   "execution_count": 29,
   "metadata": {
    "collapsed": true,
    "deletable": true,
    "editable": true
   },
   "outputs": [],
   "source": [
    "babies_95 = df.ix[1995]"
   ]
  },
  {
   "cell_type": "markdown",
   "metadata": {
    "deletable": true,
    "editable": true
   },
   "source": [
    "To find the most popular name, we can use the [`idxmax`](http://pandas.pydata.org/pandas-docs/stable/generated/pandas.DataFrame.idxmax.html#pandas.DataFrame.idxmax) method of the data frame, which returns the column with the largest value:"
   ]
  },
  {
   "cell_type": "code",
   "execution_count": 30,
   "metadata": {
    "collapsed": false,
    "deletable": true,
    "editable": true
   },
   "outputs": [
    {
     "data": {
      "text/plain": [
       "'Michael (M)'"
      ]
     },
     "execution_count": 30,
     "metadata": {},
     "output_type": "execute_result"
    }
   ],
   "source": [
    "babies_95.idxmax()"
   ]
  },
  {
   "cell_type": "markdown",
   "metadata": {
    "deletable": true,
    "editable": true
   },
   "source": [
    "### Exploring in more detail\n",
    "\n",
    "We've now covered how to explore data by row (e.g. by year) and by column (e.g. by name). What other information can we extract? How about we take a look at the popularity of the most popular names between 1880 and 2010? This sounds a lot harder than it is. When we looked at names in 1995, we first indexed into the data frame, so that we called `idxmax` on the data relating to 1995 only. This time, we'll run the same method on the whole data frame.\n",
    "\n",
    "> **Note:** By default, calls to `idxmax` set the optional argument `axis` to zero (i.e. `axis=0`), unless it is specified otherwise. The `axis` argument controls whether the method is applied to the index of the data frame (`axis=0`) or the columns of the data frame (`axis=1`).\n",
    "\n",
    "As we want to find the most popular name for each year, we will need to select the columns with the largest value for each row (i.e. `axis=1`). Apart from this small change, the call is identical to the one above, where we found the most popular name in 1995."
   ]
  },
  {
   "cell_type": "code",
   "execution_count": 33,
   "metadata": {
    "collapsed": false,
    "deletable": true,
    "editable": true
   },
   "outputs": [
    {
     "data": {
      "text/plain": [
       "year\n",
       "1880        John (M)\n",
       "1881        John (M)\n",
       "1882        John (M)\n",
       "1883        John (M)\n",
       "1884        John (M)\n",
       "1885        Mary (F)\n",
       "1886        Mary (F)\n",
       "1887        Mary (F)\n",
       "1888        Mary (F)\n",
       "1889        Mary (F)\n",
       "1890        Mary (F)\n",
       "1891        Mary (F)\n",
       "1892        Mary (F)\n",
       "1893        Mary (F)\n",
       "1894        Mary (F)\n",
       "1895        Mary (F)\n",
       "1896        Mary (F)\n",
       "1897        Mary (F)\n",
       "1898        Mary (F)\n",
       "1899        Mary (F)\n",
       "1900        Mary (F)\n",
       "1901        Mary (F)\n",
       "1902        Mary (F)\n",
       "1903        Mary (F)\n",
       "1904        Mary (F)\n",
       "1905        Mary (F)\n",
       "1906        Mary (F)\n",
       "1907        Mary (F)\n",
       "1908        Mary (F)\n",
       "1909        Mary (F)\n",
       "            ...     \n",
       "1981     Michael (M)\n",
       "1982     Michael (M)\n",
       "1983     Michael (M)\n",
       "1984     Michael (M)\n",
       "1985     Michael (M)\n",
       "1986     Michael (M)\n",
       "1987     Michael (M)\n",
       "1988     Michael (M)\n",
       "1989     Michael (M)\n",
       "1990     Michael (M)\n",
       "1991     Michael (M)\n",
       "1992     Michael (M)\n",
       "1993     Michael (M)\n",
       "1994     Michael (M)\n",
       "1995     Michael (M)\n",
       "1996     Michael (M)\n",
       "1997     Michael (M)\n",
       "1998     Michael (M)\n",
       "1999       Jacob (M)\n",
       "2000       Jacob (M)\n",
       "2001       Jacob (M)\n",
       "2002       Jacob (M)\n",
       "2003       Jacob (M)\n",
       "2004       Jacob (M)\n",
       "2005       Jacob (M)\n",
       "2006       Jacob (M)\n",
       "2007       Jacob (M)\n",
       "2008       Jacob (M)\n",
       "2009    Isabella (F)\n",
       "2010    Isabella (F)\n",
       "dtype: object"
      ]
     },
     "execution_count": 33,
     "metadata": {},
     "output_type": "execute_result"
    }
   ],
   "source": [
    "df.idxmax(axis=1)"
   ]
  },
  {
   "cell_type": "markdown",
   "metadata": {
    "deletable": true,
    "editable": true
   },
   "source": [
    "We've now figured out which names were most popular in each year. How about we get a condensed list? First let's assign the most popular names to a variable to save typing:"
   ]
  },
  {
   "cell_type": "code",
   "execution_count": 34,
   "metadata": {
    "collapsed": true,
    "deletable": true,
    "editable": true
   },
   "outputs": [],
   "source": [
    "most_popular_names = df.idxmax(axis=1)"
   ]
  },
  {
   "cell_type": "markdown",
   "metadata": {
    "deletable": true,
    "editable": true
   },
   "source": [
    "Next, we can use the [`unique`](http://pandas.pydata.org/pandas-docs/stable/generated/pandas.Index.unique.html#pandas.Index.unique) method to condense the list of names per year into a single set:"
   ]
  },
  {
   "cell_type": "code",
   "execution_count": 35,
   "metadata": {
    "collapsed": false,
    "deletable": true,
    "editable": true
   },
   "outputs": [
    {
     "data": {
      "text/plain": [
       "array(['John (M)', 'Mary (F)', 'Robert (M)', 'James (M)', 'Linda (F)',\n",
       "       'Michael (M)', 'David (M)', 'Jacob (M)', 'Isabella (F)'], dtype=object)"
      ]
     },
     "execution_count": 35,
     "metadata": {},
     "output_type": "execute_result"
    }
   ],
   "source": [
    "most_popular_names.unique()"
   ]
  },
  {
   "cell_type": "markdown",
   "metadata": {
    "deletable": true,
    "editable": true
   },
   "source": [
    "Incredibly, there are just nine names in the top spot since 1880! Let's use pandas' built in plotting to take a look at how these vary over time:\n",
    "\n",
    "> **Note:** Visually, it's a bit cleaner to move the legend outside of the box below. Don't worry if you don't understand this step - we'll cover it in more detail later."
   ]
  },
  {
   "cell_type": "code",
   "execution_count": 36,
   "metadata": {
    "collapsed": false,
    "deletable": true,
    "editable": true
   },
   "outputs": [
    {
     "data": {
      "text/plain": [
       "<matplotlib.legend.Legend at 0x7f35beaa6fd0>"
      ]
     },
     "execution_count": 36,
     "metadata": {},
     "output_type": "execute_result"
    },
    {
     "data": {
      "image/png": "[encoded data removed]",
      "text/plain": [
       "<matplotlib.figure.Figure at 0x7f35beab04d0>"
      ]
     },
     "metadata": {},
     "output_type": "display_data"
    }
   ],
   "source": [
    "top_names = most_popular_names.unique()\n",
    "df.ix[:,top_names].plot().legend(loc='center left', bbox_to_anchor=(1.0, 0.5)) # Use .legend() to control the position of the legend"
   ]
  },
  {
   "cell_type": "markdown",
   "metadata": {
    "deletable": true,
    "editable": true
   },
   "source": [
    "There are some interesting features here, most notably perhaps the notion that names have a \"lifespan\" (i.e. they grow in popularity, peak, and then decline) and that modern names have increased in diversity (the most popular names now aren't anywhere near as widely used as those in the middle of the 1900s, despite the US population being much larger). As you become more familiar with pandas, finding insights like these becomes much easier.\n",
    "\n",
    "#### Poisoned names\n",
    "\n",
    "Names are often chosen based on the popularity, or otherwise, of celebrities. This can sometimes make for some amusing trends in the data, such as the decline in the popularity of \"Hillary\" with the rise to fame and election of Bill Clinton in the early 1990s:"
   ]
  },
  {
   "cell_type": "code",
   "execution_count": 37,
   "metadata": {
    "collapsed": false,
    "deletable": true,
    "editable": true
   },
   "outputs": [
    {
     "data": {
      "text/plain": [
       "<matplotlib.axes._subplots.AxesSubplot at 0x7f35be920c10>"
      ]
     },
     "execution_count": 37,
     "metadata": {},
     "output_type": "execute_result"
    },
    {
     "data": {
      "image/png": "[encoded data removed]",
      "text/plain": [
       "<matplotlib.figure.Figure at 0x7f35be912610>"
      ]
     },
     "metadata": {},
     "output_type": "display_data"
    }
   ],
   "source": [
    "df.ix[:,\"Hillary (F)\"].plot()"
   ]
  },
  {
   "cell_type": "markdown",
   "metadata": {
    "deletable": true,
    "editable": true
   },
   "source": [
    "For a deeper analysis, check out [this blog post](http://hilaryparker.com/2013/01/30/hilary-the-most-poisoned-baby-name-in-us-history/)."
   ]
  }
 ],
 "metadata": {
  "kernelspec": {
   "display_name": "Python 2",
   "language": "python",
   "name": "python2"
  },
  "language_info": {
   "codemirror_mode": {
    "name": "ipython",
    "version": 2
   },
   "file_extension": ".py",
   "mimetype": "text/x-python",
   "name": "python",
   "nbconvert_exporter": "python",
   "pygments_lexer": "ipython2",
   "version": "2.7.12"
  }
 },
 "nbformat": 4,
 "nbformat_minor": 0
}
