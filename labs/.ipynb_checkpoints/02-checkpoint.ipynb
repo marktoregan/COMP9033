{
 "cells": [
  {
   "cell_type": "markdown",
   "metadata": {
    "deletable": true,
    "editable": true
   },
   "source": [
    "# COMP9033 - Data Analytics Lab 02: Introduction to exploratory data analysis\n",
    "## Introduction\n",
    "\n",
    "This week's lab provides a practical introduction to exploratory data analysis. At the end of the lab, you should be able to use pandas to:\n",
    "\n",
    "- Load data from a CSV file.\n",
    "- Select data by row, column and cell.\n",
    "- Plot the data.\n",
    "- Compute summary statistics about the data.\n",
    "\n",
    "The lab is longer than last week, but it is not too difficult. The trickiest aspect will probably be getting the hang of a new Python library called pandas.\n",
    "\n",
    "### Pandas\n",
    "\n",
    "This week's lab involves the use of the pandas Python library. Before getting started, you should watch the brief *10-minute tour of pandas* video. You don't need to understand everything in the video to do the lab, but it should give you a good idea of what pandas is and what it can do. To display the video in your browser, click in the cell below and press `Shift`-`Enter`."
   ]
  },
  {
   "cell_type": "code",
   "execution_count": 1,
   "metadata": {
    "collapsed": false,
    "deletable": true,
    "editable": true
   },
   "outputs": [
    {
     "data": {
      "text/html": [
       "\n",
       "        <iframe\n",
       "            width=\"800\"\n",
       "            height=\"600\"\n",
       "            src=\"https://player.vimeo.com/video/59324550\"\n",
       "            frameborder=\"0\"\n",
       "            allowfullscreen\n",
       "        ></iframe>\n",
       "        "
      ],
      "text/plain": [
       "<IPython.lib.display.VimeoVideo at 0x7f1be97079d0>"
      ]
     },
     "execution_count": 1,
     "metadata": {},
     "output_type": "execute_result"
    }
   ],
   "source": [
    "from IPython.display import VimeoVideo\n",
    "VimeoVideo(59324550, width=800, height=600)"
   ]
  },
  {
   "cell_type": "markdown",
   "metadata": {
    "deletable": true,
    "editable": true
   },
   "source": [
    "## Pandas basics\n",
    "\n",
    "In this lab, we're going to look at registered birth names, as recorded in the United States between 1880 and 2010. Let's start by ensuring that plots appear inline (recall from last week that we need to write the IPython *magic* command `%matplotlib inline` to do this) and importing the packages that we'll need:"
   ]
  },
  {
   "cell_type": "code",
   "execution_count": null,
   "metadata": {
    "collapsed": false,
    "deletable": true,
    "editable": true
   },
   "outputs": [],
   "source": [
    "%matplotlib inline\n",
    "import pandas as pd   # Import the pandas module (this also imports matplotlib)\n",
    "import seaborn as sns # Override the default matplotlib options to make our plots look nice"
   ]
  },
  {
   "cell_type": "markdown",
   "metadata": {
    "deletable": true,
    "editable": true
   },
   "source": [
    "### Loading CSV data\n",
    "\n",
    "Now that we've imported the pandas module, we can use it to load data from a CSV file, so that we can explore and manipulate the data using Python, right here in the browser.\n",
    "\n",
    "To get started, we need to enter the location of our CSV file.\n",
    "\n",
    "> **Note:** If you have extracted the files for this lab in the same order they were archived in, then you shouldn't need to update the location of the CSV file.\n",
    "> \n",
    "> If you have changed the location, don't worry - just update it below.\n",
    "\n",
    "Enter the location of the CSV file in the next cell:"
   ]
  },
  {
   "cell_type": "code",
   "execution_count": null,
   "metadata": {
    "collapsed": false,
    "deletable": true,
    "editable": true
   },
   "outputs": [],
   "source": [
    "path_to_csv_file = \"data/baby_names.csv\""
   ]
  },
  {
   "cell_type": "markdown",
   "metadata": {
    "deletable": true,
    "editable": true
   },
   "source": [
    "Loading CSV files is easy in pandas - all we need to do is pass the name of the file to the [`read_csv`](http://pandas.pydata.org/pandas-docs/stable/generated/pandas.read_csv.html) method. Before we get started though, we need to think about how we're going to use the data in the file.\n",
    "\n",
    "If you open the file manually (e.g. using speadsheet software), you'll see that the name of the first column is \"year\" and that the names of the other columns correspond to male and female names. The year column is important because it *indexes* the names, i.e. it provides a structure by which we can query the data. For example, we can tell how many people were named \"John (M)\" in a particular year by looking up the row corresponding to that year under the \"John (M)\" column.\n",
    "\n",
    "If we import a CSV file using the `read_csv` method, we can specify the index column to use by passing the optional argument `index_col`.\n",
    "\n",
    "> **Note:** We don't have to pass the `index_col` argument if we don't want to, but having an index makes things much simpler later on.\n",
    "\n",
    "Let's load the CSV data now by calling the `read_csv` method and setting the optional `index_col` argument to `'year'`, so that the year column is used to index the data:"
   ]
  },
  {
   "cell_type": "code",
   "execution_count": null,
   "metadata": {
    "collapsed": false,
    "deletable": true,
    "editable": true
   },
   "outputs": [],
   "source": [
    "df = pd.read_csv(path_to_csv_file, index_col='year')"
   ]
  },
  {
   "cell_type": "markdown",
   "metadata": {
    "deletable": true,
    "editable": true
   },
   "source": [
    "### Data frames\n",
    "\n",
    "In pandas, data is represented using the *data frame* object. A data frame is very similar to a spreadsheet, in the sense that it has a tabular layout, consisting of rows and columns. However, data frames are in many ways much more powerful tools than spreadsheets because they allow us to directly manipulate rows, columns and individual data cells using Python.\n",
    "\n",
    "> **Note:** When we loaded the CSV file above, we copied its contents into a pandas data frame, which we will refer to using the name `df` (this is by convention).\n",
    "\n",
    "The amount of data in the CSV file is large! We can check the number of rows and columns using the `shape` attribute of the data frame, like this:\n",
    "\n",
    "> **Note:** `shape` is an *attribute* of the data frame not a *method*, so we don't need to append brackets (e.g. `df.shape()`) as we would normally."
   ]
  },
  {
   "cell_type": "code",
   "execution_count": null,
   "metadata": {
    "collapsed": false,
    "deletable": true,
    "editable": true
   },
   "outputs": [],
   "source": [
    "df.shape"
   ]
  },
  {
   "cell_type": "markdown",
   "metadata": {
    "deletable": true,
    "editable": true
   },
   "source": [
    "You should have 131 rows and 98148 columns in your data frame - that's a lot to visualise in one go! Instead, why don't we just look a the first few rows? We can do this in pandas using the [`head`](http://pandas.pydata.org/pandas-docs/stable/generated/pandas.DataFrame.head.html#pandas.DataFrame.head) method of the data frame, which works in a similar way to the Linux command of the same name. To see the first few rows of the data frame, run the cell below:"
   ]
  },
  {
   "cell_type": "code",
   "execution_count": null,
   "metadata": {
    "collapsed": false,
    "deletable": true,
    "editable": true
   },
   "outputs": [],
   "source": [
    "df.head()"
   ]
  },
  {
   "cell_type": "markdown",
   "metadata": {
    "deletable": true,
    "editable": true
   },
   "source": [
    "We can also check out the last few rows using the [`tail`](http://pandas.pydata.org/pandas-docs/stable/generated/pandas.DataFrame.tail.html#pandas.DataFrame.tail) method, like this:"
   ]
  },
  {
   "cell_type": "code",
   "execution_count": null,
   "metadata": {
    "collapsed": false,
    "deletable": true,
    "editable": true
   },
   "outputs": [],
   "source": [
    "df.tail()"
   ]
  },
  {
   "cell_type": "markdown",
   "metadata": {
    "deletable": true,
    "editable": true
   },
   "source": [
    "We can get a list of the years represented in the data frame using the [`index`](http://pandas.pydata.org/pandas-docs/stable/api.html#attributes-and-underlying-data) attribute of the data frame (recall that we used the year column in the CSV file as our index), like this:"
   ]
  },
  {
   "cell_type": "code",
   "execution_count": null,
   "metadata": {
    "collapsed": false,
    "deletable": true,
    "editable": true
   },
   "outputs": [],
   "source": [
    "df.index"
   ]
  },
  {
   "cell_type": "markdown",
   "metadata": {
    "deletable": true,
    "editable": true
   },
   "source": [
    "Similarly, we can get a list of the column names using the [`columns`](http://pandas.pydata.org/pandas-docs/stable/api.html#attributes-and-underlying-data) attribute, like this:"
   ]
  },
  {
   "cell_type": "code",
   "execution_count": null,
   "metadata": {
    "collapsed": false,
    "deletable": true,
    "editable": true
   },
   "outputs": [],
   "source": [
    "df.columns"
   ]
  },
  {
   "cell_type": "markdown",
   "metadata": {
    "deletable": true,
    "editable": true
   },
   "source": [
    "We can access specific rows of the data using the [`ix`](http://pandas.pydata.org/pandas-docs/stable/generated/pandas.DataFrame.ix.html#pandas.DataFrame.ix) *indexer* of the data frame. For instance, to select the data corresponding to the year 2001, we just need to index into the corresponding row, like this:"
   ]
  },
  {
   "cell_type": "code",
   "execution_count": null,
   "metadata": {
    "collapsed": false,
    "deletable": true,
    "editable": true
   },
   "outputs": [],
   "source": [
    "df.ix[2001]"
   ]
  },
  {
   "cell_type": "markdown",
   "metadata": {
    "deletable": true,
    "editable": true
   },
   "source": [
    "We can select a specific cell by specifying both a row and a column to the indexer. For instance, to select the number of female babies named Mary in 2001, we can write:"
   ]
  },
  {
   "cell_type": "code",
   "execution_count": null,
   "metadata": {
    "collapsed": false,
    "deletable": true,
    "editable": true
   },
   "outputs": [],
   "source": [
    "df.ix[2001, 'Mary (F)']"
   ]
  },
  {
   "cell_type": "markdown",
   "metadata": {
    "deletable": true,
    "editable": true
   },
   "source": [
    "Alternatively, to select the data for Mary for all years, we can pass the shorthand colon symbol '`:`', like in the cell below. The colon symbol '`:`' is just shorthand for *all the rows*.\n",
    "\n",
    "> **Note:** If we want to select a whole row, then the indexer requires just the row index (e.g. the year). However, If we want to select a column (e.g. 'Mary (F)'), then the indexer requires that we pass both the rows and the column."
   ]
  },
  {
   "cell_type": "code",
   "execution_count": null,
   "metadata": {
    "collapsed": false,
    "deletable": true,
    "editable": true
   },
   "outputs": [],
   "source": [
    "df.ix[:, 'Mary (F)']"
   ]
  },
  {
   "cell_type": "markdown",
   "metadata": {
    "deletable": true,
    "editable": true
   },
   "source": [
    "We've now covered the basics of pandas:\n",
    "\n",
    "- How to load CSV files into data frames.\n",
    "- How to peak at the start and end rows of a data frame.\n",
    "- How to get the index row names.\n",
    "- How to get the column names.\n",
    "- How to look at a specific row, a specific column or a specific cell in a data frame.\n",
    "\n",
    "Next, let's explore the data.\n",
    "\n",
    "## Exploratory data analysis\n",
    "### Exploring a specific name\n",
    "\n",
    "Let's start by exploring a specific girl's name: Mary. In our data frame, the corresponding column is named `'Mary (F)'`. To access the data in the column, all we need to do is pass the name of the column to the [`ix`](http://pandas.pydata.org/pandas-docs/stable/generated/pandas.DataFrame.ix.html#pandas.DataFrame.ix) indexer of the data frame, just as we did earlier, like this:"
   ]
  },
  {
   "cell_type": "code",
   "execution_count": null,
   "metadata": {
    "collapsed": false,
    "deletable": true,
    "editable": true
   },
   "outputs": [],
   "source": [
    "df.ix[:, 'Mary (F)']"
   ]
  },
  {
   "cell_type": "markdown",
   "metadata": {
    "deletable": true,
    "editable": true
   },
   "source": [
    "We can examine how the popularity of the name Mary has changed over time by calling the [`plot`](http://pandas.pydata.org/pandas-docs/stable/generated/pandas.DataFrame.plot.html#pandas.DataFrame.plot) method after we index into the data frame.\n",
    "\n",
    "> **Note:** Under the hood, the `plot` method of the data frame is actually calling the `plot` method in matplotlib. Conveniently, we don't need to import this module separately - it just works.\n",
    "\n",
    "To generate a plot of the data above, all we need to do is append `.plot()` to the previous statement, like this:"
   ]
  },
  {
   "cell_type": "code",
   "execution_count": null,
   "metadata": {
    "collapsed": false,
    "deletable": true,
    "editable": true
   },
   "outputs": [],
   "source": [
    "df.ix[:, 'Mary (F)'].plot()"
   ]
  },
  {
   "cell_type": "markdown",
   "metadata": {
    "deletable": true,
    "editable": true
   },
   "source": [
    "> **Note:** pandas automatically uses the index of the data frame as the x-axis and the column(s) we've specified as the series to plot.\n",
    "\n",
    "The *Era of Mary* in the United States appears to have taken place between around 1910 and 1970. Let's select this data, so we can look at in more detail. To do this, we must specify an exact year range (as opposed to the shorthand *all the rows* colon operator '`:`') when we index into the data frame, like this:"
   ]
  },
  {
   "cell_type": "code",
   "execution_count": null,
   "metadata": {
    "collapsed": false,
    "deletable": true,
    "editable": true
   },
   "outputs": [],
   "source": [
    "df.ix[1910:1970, 'Mary (F)']"
   ]
  },
  {
   "cell_type": "markdown",
   "metadata": {
    "deletable": true,
    "editable": true
   },
   "source": [
    "To save having to write out the complicated indexing notation every time, let's create a new Python variable called `data` and assign the data we want to examine to it:"
   ]
  },
  {
   "cell_type": "code",
   "execution_count": null,
   "metadata": {
    "collapsed": true,
    "deletable": true,
    "editable": true
   },
   "outputs": [],
   "source": [
    "data = df.ix[1910:1970, 'Mary (F)']"
   ]
  },
  {
   "cell_type": "markdown",
   "metadata": {
    "deletable": true,
    "editable": true
   },
   "source": [
    "Now, we can plot the data by calling the `plot` method on the `data` variable, like this:"
   ]
  },
  {
   "cell_type": "code",
   "execution_count": null,
   "metadata": {
    "collapsed": false,
    "deletable": true,
    "editable": true
   },
   "outputs": [],
   "source": [
    "data.plot()"
   ]
  },
  {
   "cell_type": "markdown",
   "metadata": {
    "deletable": true,
    "editable": true
   },
   "source": [
    "Next, let's compute some summary statistics about the *Era of Mary*. The pandas data frame object supports the direct computation of a number of statistical measures using instance methods such as [`mean`](http://pandas.pydata.org/pandas-docs/stable/generated/pandas.DataFrame.mean.html#pandas.DataFrame.mean), [`median`](http://pandas.pydata.org/pandas-docs/stable/generated/pandas.DataFrame.median.html#pandas.DataFrame.median), [`min`](http://pandas.pydata.org/pandas-docs/stable/generated/pandas.DataFrame.min.html#pandas.DataFrame.min), [`max`](http://pandas.pydata.org/pandas-docs/stable/generated/pandas.DataFrame.max.html#pandas.DataFrame.max) and [`std`](http://pandas.pydata.org/pandas-docs/stable/generated/pandas.DataFrame.std.html#pandas.DataFrame.std). For instance, to compute the average number of girls named Mary in the data frame, we can write:"
   ]
  },
  {
   "cell_type": "code",
   "execution_count": null,
   "metadata": {
    "collapsed": false,
    "deletable": true,
    "editable": true
   },
   "outputs": [],
   "source": [
    "data.mean()"
   ]
  },
  {
   "cell_type": "markdown",
   "metadata": {
    "deletable": true,
    "editable": true
   },
   "source": [
    "So, between 1910 and 1970, there were approximately 55,600 girls named Mary each year on average.\n",
    "\n",
    "At this point, you might be asking yourself whether you'll have to write out a line of code to compute each kind of summary statistic you want to compute, but fear not: pandas has a solution. To compute a complete statistical description of a data frame, all we have to do is call the [`describe`](http://pandas.pydata.org/pandas-docs/stable/generated/pandas.DataFrame.describe.html#pandas.DataFrame.describe) method, like this:"
   ]
  },
  {
   "cell_type": "code",
   "execution_count": null,
   "metadata": {
    "collapsed": false,
    "deletable": true,
    "editable": true
   },
   "outputs": [],
   "source": [
    "data.describe()"
   ]
  },
  {
   "cell_type": "markdown",
   "metadata": {
    "deletable": true,
    "editable": true
   },
   "source": [
    "Immediately, we have a lot of new information:\n",
    "\n",
    "- The number of data points we're looking at: `count`.\n",
    "- The arithmetic mean of these points: `mean`.\n",
    "- The *sample* standard deviation: `std`.\n",
    "- The minimum value of the data (i.e. the 0$^{th}$ percentile): `min`.\n",
    "- The first, second (i.e. median) and third quartiles: `25%`, `50%`, `75%`.\n",
    "- The maximum value of the data (i.e. the 100$^{th}$ percentile): `max`.\n",
    "\n",
    "So, with just a few quick Python commands, we can say quite a few things about the name Mary:\n",
    "\n",
    "- On average, in the United States, there were approximately 55,600 female babies named Mary every year from 1910 until 1970.\n",
    "- At least 19,000 girls were called Mary each year.\n",
    "- The highest year saw almost 74,000 girls named Mary.\n",
    "\n",
    "Summary statistics are powerful and pandas makes them simple! If you're done with this section, try changing the rows and columns we assigned to the `data` variable above to plot and describe the popularity of other names during different periods. This should help you to familiarise yourself with pandas' indexing notation.\n",
    "\n",
    "### Exploring a specific year\n",
    "\n",
    "We know how to explore a specific name, how about a specific year? What was the most popular baby name in 1995, for instance? Again, using pandas, this is easy to do. Let's start by indexing into the data frame and assigning the data we want to explore to its own variable:"
   ]
  },
  {
   "cell_type": "code",
   "execution_count": null,
   "metadata": {
    "collapsed": true,
    "deletable": true,
    "editable": true
   },
   "outputs": [],
   "source": [
    "babies_95 = df.ix[1995]"
   ]
  },
  {
   "cell_type": "markdown",
   "metadata": {
    "deletable": true,
    "editable": true
   },
   "source": [
    "To find the most popular name, we can use the [`idxmax`](http://pandas.pydata.org/pandas-docs/stable/generated/pandas.DataFrame.idxmax.html#pandas.DataFrame.idxmax) method of the data frame, which returns the column with the largest value:"
   ]
  },
  {
   "cell_type": "code",
   "execution_count": null,
   "metadata": {
    "collapsed": false,
    "deletable": true,
    "editable": true
   },
   "outputs": [],
   "source": [
    "babies_95.idxmax()"
   ]
  },
  {
   "cell_type": "markdown",
   "metadata": {
    "deletable": true,
    "editable": true
   },
   "source": [
    "### Exploring in more detail\n",
    "\n",
    "We've now covered how to explore data by row (e.g. by year) and by column (e.g. by name). What other information can we extract? How about we take a look at the popularity of the most popular names between 1880 and 2010? This sounds a lot harder than it is. When we looked at names in 1995, we first indexed into the data frame, so that we called `idxmax` on the data relating to 1995 only. This time, we'll run the same method on the whole data frame.\n",
    "\n",
    "> **Note:** By default, calls to `idxmax` set the optional argument `axis` to zero (i.e. `axis=0`), unless it is specified otherwise. The `axis` argument controls whether the method is applied to the index of the data frame (`axis=0`) or the columns of the data frame (`axis=1`).\n",
    "\n",
    "As we want to find the most popular name for each year, we will need to select the columns with the largest value for each row (i.e. `axis=1`). Apart from this small change, the call is identical to the one above, where we found the most popular name in 1995."
   ]
  },
  {
   "cell_type": "code",
   "execution_count": null,
   "metadata": {
    "collapsed": false,
    "deletable": true,
    "editable": true
   },
   "outputs": [],
   "source": [
    "df.idxmax(axis=1)"
   ]
  },
  {
   "cell_type": "markdown",
   "metadata": {
    "deletable": true,
    "editable": true
   },
   "source": [
    "We've now figured out which names were most popular in each year. How about we get a condensed list? First let's assign the most popular names to a variable to save typing:"
   ]
  },
  {
   "cell_type": "code",
   "execution_count": null,
   "metadata": {
    "collapsed": true,
    "deletable": true,
    "editable": true
   },
   "outputs": [],
   "source": [
    "most_popular_names = df.idxmax(axis=1)"
   ]
  },
  {
   "cell_type": "markdown",
   "metadata": {
    "deletable": true,
    "editable": true
   },
   "source": [
    "Next, we can use the [`unique`](http://pandas.pydata.org/pandas-docs/stable/generated/pandas.Index.unique.html#pandas.Index.unique) method to condense the list of names per year into a single set:"
   ]
  },
  {
   "cell_type": "code",
   "execution_count": null,
   "metadata": {
    "collapsed": false,
    "deletable": true,
    "editable": true
   },
   "outputs": [],
   "source": [
    "most_popular_names.unique()"
   ]
  },
  {
   "cell_type": "markdown",
   "metadata": {
    "deletable": true,
    "editable": true
   },
   "source": [
    "Incredibly, there are just nine names in the top spot since 1880! Let's use pandas' built in plotting to take a look at how these vary over time:\n",
    "\n",
    "> **Note:** Visually, it's a bit cleaner to move the legend outside of the box below. Don't worry if you don't understand this step - we'll cover it in more detail later."
   ]
  },
  {
   "cell_type": "code",
   "execution_count": null,
   "metadata": {
    "collapsed": false,
    "deletable": true,
    "editable": true
   },
   "outputs": [],
   "source": [
    "top_names = most_popular_names.unique()\n",
    "df.ix[:,top_names].plot().legend(loc='center left', bbox_to_anchor=(1.0, 0.5)) # Use .legend() to control the position of the legend"
   ]
  },
  {
   "cell_type": "markdown",
   "metadata": {
    "deletable": true,
    "editable": true
   },
   "source": [
    "There are some interesting features here, most notably perhaps the notion that names have a \"lifespan\" (i.e. they grow in popularity, peak, and then decline) and that modern names have increased in diversity (the most popular names now aren't anywhere near as widely used as those in the middle of the 1900s, despite the US population being much larger). As you become more familiar with pandas, finding insights like these becomes much easier.\n",
    "\n",
    "#### Poisoned names\n",
    "\n",
    "Names are often chosen based on the popularity, or otherwise, of celebrities. This can sometimes make for some amusing trends in the data, such as the decline in the popularity of \"Hillary\" with the rise to fame and election of Bill Clinton in the early 1990s:"
   ]
  },
  {
   "cell_type": "code",
   "execution_count": null,
   "metadata": {
    "collapsed": false,
    "deletable": true,
    "editable": true
   },
   "outputs": [],
   "source": [
    "df.ix[:,\"Hillary (F)\"].plot()"
   ]
  },
  {
   "cell_type": "markdown",
   "metadata": {
    "deletable": true,
    "editable": true
   },
   "source": [
    "For a deeper analysis, check out [this blog post](http://hilaryparker.com/2013/01/30/hilary-the-most-poisoned-baby-name-in-us-history/)."
   ]
  }
 ],
 "metadata": {
  "kernelspec": {
   "display_name": "Python 2",
   "language": "python",
   "name": "python2"
  },
  "language_info": {
   "codemirror_mode": {
    "name": "ipython",
    "version": 2
   },
   "file_extension": ".py",
   "mimetype": "text/x-python",
   "name": "python",
   "nbconvert_exporter": "python",
   "pygments_lexer": "ipython2",
   "version": "2.7.12"
  }
 },
 "nbformat": 4,
 "nbformat_minor": 0
}
