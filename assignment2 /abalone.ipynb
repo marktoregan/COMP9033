{
 "cells": [
  {
   "cell_type": "markdown",
   "metadata": {},
   "source": [
    "    Assignment 2 - Abalone"
   ]
  },
  {
   "cell_type": "code",
   "execution_count": 7,
   "metadata": {
    "collapsed": true
   },
   "outputs": [],
   "source": [
    "%matplotlib inline\n",
    "import pandas as pd   # Import the pandas module (this also imports matplotlib)\n",
    "import seaborn as sns # Override the default matplotlib options to make our plots look nice"
   ]
  },
  {
   "cell_type": "code",
   "execution_count": 8,
   "metadata": {
    "collapsed": false
   },
   "outputs": [],
   "source": [
    "path_to_csv_file = \"data/abalone.csv\""
   ]
  },
  {
   "cell_type": "code",
   "execution_count": 12,
   "metadata": {
    "collapsed": false
   },
   "outputs": [],
   "source": [
    "df = pd.read_csv(path_to_csv_file, index_col=False)"
   ]
  },
  {
   "cell_type": "code",
   "execution_count": 14,
   "metadata": {
    "collapsed": false
   },
   "outputs": [
    {
     "data": {
      "text/plain": [
       "(4177, 9)"
      ]
     },
     "execution_count": 14,
     "metadata": {},
     "output_type": "execute_result"
    }
   ],
   "source": [
    "df.shape"
   ]
  },
  {
   "cell_type": "code",
   "execution_count": 15,
   "metadata": {
    "collapsed": false
   },
   "outputs": [
    {
     "data": {
      "text/plain": [
       "<bound method DataFrame.head of      Sex  Length  Diameter  Height  Whole weight  Shucked weight  \\\n",
       "0      M   0.455     0.365   0.095        0.5140          0.2245   \n",
       "1      M   0.350     0.265   0.090        0.2255          0.0995   \n",
       "2      F   0.530     0.420   0.135        0.6770          0.2565   \n",
       "3      M   0.440     0.365   0.125        0.5160          0.2155   \n",
       "4      I   0.330     0.255   0.080        0.2050          0.0895   \n",
       "5      I   0.425     0.300   0.095        0.3515          0.1410   \n",
       "6      F   0.530     0.415   0.150        0.7775          0.2370   \n",
       "7      F   0.545     0.425   0.125        0.7680          0.2940   \n",
       "8      M   0.475     0.370   0.125        0.5095          0.2165   \n",
       "9      F   0.550     0.440   0.150        0.8945          0.3145   \n",
       "10     F   0.525     0.380   0.140        0.6065          0.1940   \n",
       "11     M   0.430     0.350   0.110        0.4060          0.1675   \n",
       "12     M   0.490     0.380   0.135        0.5415          0.2175   \n",
       "13     F   0.535     0.405   0.145        0.6845          0.2725   \n",
       "14     F   0.470     0.355   0.100        0.4755          0.1675   \n",
       "15     M   0.500     0.400   0.130        0.6645          0.2580   \n",
       "16     I   0.355     0.280   0.085        0.2905          0.0950   \n",
       "17     F   0.440     0.340   0.100        0.4510          0.1880   \n",
       "18     M   0.365     0.295   0.080        0.2555          0.0970   \n",
       "19     M   0.450     0.320   0.100        0.3810          0.1705   \n",
       "20     M   0.355     0.280   0.095        0.2455          0.0955   \n",
       "21     I   0.380     0.275   0.100        0.2255          0.0800   \n",
       "22     F   0.565     0.440   0.155        0.9395          0.4275   \n",
       "23     F   0.550     0.415   0.135        0.7635          0.3180   \n",
       "24     F   0.615     0.480   0.165        1.1615          0.5130   \n",
       "25     F   0.560     0.440   0.140        0.9285          0.3825   \n",
       "26     F   0.580     0.450   0.185        0.9955          0.3945   \n",
       "27     M   0.590     0.445   0.140        0.9310          0.3560   \n",
       "28     M   0.605     0.475   0.180        0.9365          0.3940   \n",
       "29     M   0.575     0.425   0.140        0.8635          0.3930   \n",
       "...   ..     ...       ...     ...           ...             ...   \n",
       "4147   M   0.695     0.550   0.195        1.6645          0.7270   \n",
       "4148   M   0.770     0.605   0.175        2.0505          0.8005   \n",
       "4149   I   0.280     0.215   0.070        0.1240          0.0630   \n",
       "4150   I   0.330     0.230   0.080        0.1400          0.0565   \n",
       "4151   I   0.350     0.250   0.075        0.1695          0.0835   \n",
       "4152   I   0.370     0.280   0.090        0.2180          0.0995   \n",
       "4153   I   0.430     0.315   0.115        0.3840          0.1885   \n",
       "4154   I   0.435     0.330   0.095        0.3930          0.2190   \n",
       "4155   I   0.440     0.350   0.110        0.3805          0.1575   \n",
       "4156   M   0.475     0.370   0.110        0.4895          0.2185   \n",
       "4157   M   0.475     0.360   0.140        0.5135          0.2410   \n",
       "4158   I   0.480     0.355   0.110        0.4495          0.2010   \n",
       "4159   F   0.560     0.440   0.135        0.8025          0.3500   \n",
       "4160   F   0.585     0.475   0.165        1.0530          0.4580   \n",
       "4161   F   0.585     0.455   0.170        0.9945          0.4255   \n",
       "4162   M   0.385     0.255   0.100        0.3175          0.1370   \n",
       "4163   I   0.390     0.310   0.085        0.3440          0.1810   \n",
       "4164   I   0.390     0.290   0.100        0.2845          0.1255   \n",
       "4165   I   0.405     0.300   0.085        0.3035          0.1500   \n",
       "4166   I   0.475     0.365   0.115        0.4990          0.2320   \n",
       "4167   M   0.500     0.380   0.125        0.5770          0.2690   \n",
       "4168   F   0.515     0.400   0.125        0.6150          0.2865   \n",
       "4169   M   0.520     0.385   0.165        0.7910          0.3750   \n",
       "4170   M   0.550     0.430   0.130        0.8395          0.3155   \n",
       "4171   M   0.560     0.430   0.155        0.8675          0.4000   \n",
       "4172   F   0.565     0.450   0.165        0.8870          0.3700   \n",
       "4173   M   0.590     0.440   0.135        0.9660          0.4390   \n",
       "4174   M   0.600     0.475   0.205        1.1760          0.5255   \n",
       "4175   F   0.625     0.485   0.150        1.0945          0.5310   \n",
       "4176   M   0.710     0.555   0.195        1.9485          0.9455   \n",
       "\n",
       "      Viscera weight  Shell weight  Rings  \n",
       "0             0.1010        0.1500   15.0  \n",
       "1             0.0485        0.0700    7.0  \n",
       "2             0.1415        0.2100    9.0  \n",
       "3             0.1140        0.1550   10.0  \n",
       "4             0.0395        0.0550    7.0  \n",
       "5             0.0775        0.1200    8.0  \n",
       "6             0.1415        0.3300   20.0  \n",
       "7             0.1495        0.2600   16.0  \n",
       "8             0.1125        0.1650    9.0  \n",
       "9             0.1510        0.3200   19.0  \n",
       "10            0.1475        0.2100   14.0  \n",
       "11            0.0810        0.1350   10.0  \n",
       "12            0.0950        0.1900   11.0  \n",
       "13            0.1710        0.2050   10.0  \n",
       "14            0.0805        0.1850   10.0  \n",
       "15            0.1330        0.2400   12.0  \n",
       "16            0.0395        0.1150    7.0  \n",
       "17            0.0870        0.1300   10.0  \n",
       "18            0.0430        0.1000    7.0  \n",
       "19            0.0750        0.1150    9.0  \n",
       "20            0.0620        0.0750   11.0  \n",
       "21            0.0490        0.0850   10.0  \n",
       "22            0.2140        0.2700   12.0  \n",
       "23            0.2100        0.2000    9.0  \n",
       "24            0.3010        0.3050   10.0  \n",
       "25            0.1880        0.3000   11.0  \n",
       "26            0.2720        0.2850   11.0  \n",
       "27            0.2340        0.2800   12.0  \n",
       "28            0.2190        0.2950   15.0  \n",
       "29            0.2270        0.2000   11.0  \n",
       "...              ...           ...    ...  \n",
       "4147          0.3600        0.4450   11.0  \n",
       "4148          0.5260        0.3550   11.0  \n",
       "4149          0.0215        0.0300    6.0  \n",
       "4150          0.0365        0.0460    7.0  \n",
       "4151          0.0355        0.0410    6.0  \n",
       "4152          0.0545        0.0615    7.0  \n",
       "4153          0.0715        0.1100    8.0  \n",
       "4154          0.0750        0.0885    6.0  \n",
       "4155          0.0895        0.1150    6.0  \n",
       "4156          0.1070        0.1460    8.0  \n",
       "4157          0.1045        0.1550    8.0  \n",
       "4158          0.0890        0.1400    8.0  \n",
       "4159          0.1615        0.2590    9.0  \n",
       "4160          0.2170        0.3000   11.0  \n",
       "4161          0.2630        0.2845   11.0  \n",
       "4162          0.0680        0.0920    8.0  \n",
       "4163          0.0695        0.0790    7.0  \n",
       "4164          0.0635        0.0810    7.0  \n",
       "4165          0.0505        0.0880    7.0  \n",
       "4166          0.0885        0.1560   10.0  \n",
       "4167          0.1265        0.1535    9.0  \n",
       "4168          0.1230        0.1765    8.0  \n",
       "4169          0.1800        0.1815   10.0  \n",
       "4170          0.1955        0.2405   10.0  \n",
       "4171          0.1720        0.2290    8.0  \n",
       "4172          0.2390        0.2490   11.0  \n",
       "4173          0.2145        0.2605   10.0  \n",
       "4174          0.2875        0.3080    9.0  \n",
       "4175          0.2610        0.2960   10.0  \n",
       "4176          0.3765        0.4950   12.0  \n",
       "\n",
       "[4177 rows x 9 columns]>"
      ]
     },
     "execution_count": 15,
     "metadata": {},
     "output_type": "execute_result"
    }
   ],
   "source": [
    "df.head"
   ]
  },
  {
   "cell_type": "code",
   "execution_count": 16,
   "metadata": {
    "collapsed": false
   },
   "outputs": [
    {
     "data": {
      "text/plain": [
       "RangeIndex(start=0, stop=4177, step=1)"
      ]
     },
     "execution_count": 16,
     "metadata": {},
     "output_type": "execute_result"
    }
   ],
   "source": [
    "df.index"
   ]
  },
  {
   "cell_type": "code",
   "execution_count": 17,
   "metadata": {
    "collapsed": false
   },
   "outputs": [
    {
     "data": {
      "text/plain": [
       "Index([u'Sex', u'Length', u'Diameter', u'Height', u'Whole weight',\n",
       "       u'Shucked weight', u'Viscera weight', u'Shell weight', u'Rings'],\n",
       "      dtype='object')"
      ]
     },
     "execution_count": 17,
     "metadata": {},
     "output_type": "execute_result"
    }
   ],
   "source": [
    "df.columns"
   ]
  },
  {
   "cell_type": "code",
   "execution_count": 18,
   "metadata": {
    "collapsed": false
   },
   "outputs": [
    {
     "data": {
      "text/plain": [
       "Sex                    M\n",
       "Length              0.35\n",
       "Diameter           0.265\n",
       "Height              0.09\n",
       "Whole weight      0.2255\n",
       "Shucked weight    0.0995\n",
       "Viscera weight    0.0485\n",
       "Shell weight        0.07\n",
       "Rings                  7\n",
       "Name: 1, dtype: object"
      ]
     },
     "execution_count": 18,
     "metadata": {},
     "output_type": "execute_result"
    }
   ],
   "source": [
    "df.ix[1]"
   ]
  },
  {
   "cell_type": "code",
   "execution_count": 19,
   "metadata": {
    "collapsed": false
   },
   "outputs": [
    {
     "data": {
      "text/plain": [
       "'M'"
      ]
     },
     "execution_count": 19,
     "metadata": {},
     "output_type": "execute_result"
    }
   ],
   "source": [
    "df.ix[1,'Sex']"
   ]
  },
  {
   "cell_type": "code",
   "execution_count": 26,
   "metadata": {
    "collapsed": false
   },
   "outputs": [
    {
     "data": {
      "text/plain": [
       "<matplotlib.axes._subplots.AxesSubplot at 0x7fb27437b3d0>"
      ]
     },
     "execution_count": 26,
     "metadata": {},
     "output_type": "execute_result"
    },
    {
     "data": {
      "image/png": "[encoded data removed]",
      "text/plain": [
       "<matplotlib.figure.Figure at 0x7fb274388d10>"
      ]
     },
     "metadata": {},
     "output_type": "display_data"
    }
   ],
   "source": [
    "df.ix[:, 'Rings'].plot()"
   ]
  },
  {
   "cell_type": "code",
   "execution_count": null,
   "metadata": {
    "collapsed": true
   },
   "outputs": [],
   "source": []
  }
 ],
 "metadata": {
  "kernelspec": {
   "display_name": "Python 2",
   "language": "python",
   "name": "python2"
  },
  "language_info": {
   "codemirror_mode": {
    "name": "ipython",
    "version": 2
   },
   "file_extension": ".py",
   "mimetype": "text/x-python",
   "name": "python",
   "nbconvert_exporter": "python",
   "pygments_lexer": "ipython2",
   "version": "2.7.12"
  }
 },
 "nbformat": 4,
 "nbformat_minor": 2
}
